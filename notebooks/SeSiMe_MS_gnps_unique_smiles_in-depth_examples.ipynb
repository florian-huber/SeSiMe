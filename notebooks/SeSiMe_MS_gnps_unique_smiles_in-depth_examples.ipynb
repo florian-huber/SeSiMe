{
 "cells": [
  {
   "cell_type": "markdown",
   "metadata": {},
   "source": [
    "# SeSiMe\n",
    "### Sentence/Sequence Similarity Measure"
   ]
  },
  {
   "cell_type": "markdown",
   "metadata": {},
   "source": [
    "## This notebook:  In-depth comparison of spectrum-spectrum similarity scoring.\n",
    "\n",
    "### 'Labeled data' is here: GNPS Dataset of 11134 spectra with smiles."
   ]
  },
  {
   "cell_type": "code",
   "execution_count": 1,
   "metadata": {},
   "outputs": [],
   "source": [
    "# data locations\n",
    "ROOT = \"C:\\\\OneDrive - Netherlands eScience Center\\\\Project_Wageningen_iOMEGA\"\n",
    "PATH_MS_DATA = ROOT + \"\\\\Data\\\\labeled_MS_data\\\\\"\n",
    "PATH_SAVE_DATA = ROOT + \"\\\\SeSiMe\\\\data\\\\\"\n",
    "PATH_SAVE_MODEL = ROOT + \"\\\\SeSiMe\\\\models_trained\\\\\"\n",
    "PATH_SESIME = ROOT + \"\\\\SeSiMe\\\\\"\n",
    "\n",
    "PATH_NPLINKER = ROOT + \"\\\\nplinker\\\\prototype\\\\\"\n",
    "#mgf_file = PATH_MS_DATA + \"GNPSLibraries_allSMILES.mgf\"\n",
    "mgf_file = PATH_MS_DATA + \"GNPSLibraries_uniqueSMILES_withFeatureIDs.mgf\""
   ]
  },
  {
   "cell_type": "code",
   "execution_count": 2,
   "metadata": {},
   "outputs": [],
   "source": [
    "# import general packages\n",
    "import sys\n",
    "sys.path.insert(0, PATH_NPLINKER)\n",
    "sys.path.insert(0, PATH_SESIME)\n",
    "\n",
    "import helper_functions as functions\n",
    "import MS_functions\n",
    "\n",
    "import numpy as np\n",
    "from metabolomics import load_spectra"
   ]
  },
  {
   "cell_type": "code",
   "execution_count": 3,
   "metadata": {},
   "outputs": [
    {
     "name": "stdout",
     "output_type": "stream",
     "text": [
      "Spectra json file found and loaded.\n"
     ]
    }
   ],
   "source": [
    "# Import / Load data\n",
    "results_file = \"filtered_data_unique_smiles_minpeak10_loss500_2dec.json\"\n",
    "\n",
    "spectra, spectra_dict, MS_documents, MS_documents_intensity, sub_spectra_metadata = MS_functions.load_MGF_data(PATH_SAVE_DATA,\n",
    "                  mgf_file, \n",
    "                 results_file = results_file,\n",
    "                 num_decimals = 2,\n",
    "                 min_frag = 0.0, max_frag = 1000.0,\n",
    "                 min_loss = 5.0, max_loss = 500.0,\n",
    "                 min_intensity_perc = 0.01, #0\n",
    "                 exp_intensity_filter = None, #0.01,\n",
    "                 min_peaks = 10,\n",
    "                 peaks_per_mz = 15/200,\n",
    "                 peak_loss_words = ['peak_', 'loss_'], #['mz_', 'mz_'], \n",
    "                 sub_spectra = False)"
   ]
  },
  {
   "cell_type": "markdown",
   "metadata": {},
   "source": [
    "#### Switch to general SeSiMe functionality\n",
    "Once we have a corpus (e.g. through cells above), we can use SeSiMe to apply different similarity measuring methds. "
   ]
  },
  {
   "cell_type": "code",
   "execution_count": 4,
   "metadata": {},
   "outputs": [
    {
     "name": "stderr",
     "output_type": "stream",
     "text": [
      "Using TensorFlow backend.\n"
     ]
    }
   ],
   "source": [
    "from Similarities import SimilarityMeasures\n",
    "\n",
    "MS_measure = SimilarityMeasures(MS_documents)"
   ]
  },
  {
   "cell_type": "code",
   "execution_count": 5,
   "metadata": {},
   "outputs": [
    {
     "name": "stdout",
     "output_type": "stream",
     "text": [
      "Preprocess documents...\n",
      "Number of unique words:  67429\n"
     ]
    }
   ],
   "source": [
    "MS_measure.preprocess_documents(0.2, min_frequency = 2, create_stopwords = False)\n",
    "print(\"Number of unique words: \", len(MS_measure.dictionary))"
   ]
  },
  {
   "cell_type": "markdown",
   "metadata": {},
   "source": [
    "### Note\n",
    "In total it would be about 100.000 words. Many occur only once in the entire corpus and are hence filtered out (makes not sense to place them somewhere in word-space, would be arbitrary!).\n",
    "\n",
    "Few also are filtered out because they occur too often (in more than 20% of the spectra). Those words have little discriminative power and are hence ignored. Might still be worth keeping them in for comparison!"
   ]
  },
  {
   "cell_type": "markdown",
   "metadata": {},
   "source": [
    "## Word2Vec -based approach\n",
    "### 1) Model trained on unique smiles dataset only."
   ]
  },
  {
   "cell_type": "code",
   "execution_count": 6,
   "metadata": {},
   "outputs": [
    {
     "name": "stdout",
     "output_type": "stream",
     "text": [
      "Load stored word2vec model ...\n"
     ]
    }
   ],
   "source": [
    "file_model_word2vec = PATH_SAVE_MODEL + 'model_w2v_MS_gnps_uniquesmiles_d300_w300_iter100_loss500_minpeak10_dec2.model'\n",
    "MS_measure.build_model_word2vec(file_model_word2vec, size=300, window=300, \n",
    "                             min_count=1, workers=4, iter=100, \n",
    "                             use_stored_model=True)"
   ]
  },
  {
   "cell_type": "code",
   "execution_count": 7,
   "metadata": {},
   "outputs": [
    {
     "name": "stdout",
     "output_type": "stream",
     "text": [
      "All 'words' of the given documents were found in the trained word2vec model.\n",
      "No tfidf model found.\n",
      "  Calculated centroid vectors for  9550  of  9550  documents. of  9550  documents."
     ]
    }
   ],
   "source": [
    "# Use peak intensities as extra weights\n",
    "MS_measure.get_vectors_centroid(method = 'update', #'ignore',\n",
    "                             extra_weights = MS_documents_intensity, \n",
    "                             tfidf_weighted = True, \n",
    "                             weight_method = 'sqrt', \n",
    "                             tfidf_model = None,\n",
    "                             extra_epochs = 5)"
   ]
  },
  {
   "cell_type": "markdown",
   "metadata": {},
   "source": [
    "## Calculate/load the different score matrices\n",
    "### all-vs-all matrix of spectrum-spectrum similarity scores\n",
    "+ Word2Vec-centroid similarity scores\n",
    "+ Cosine similarity scores\n",
    "+ Modified cosine scores (MolNet)\n",
    "+ Molecular similarity scores based on molecular fingerprints. Unless stated otherwise: Dice score based on morgen-3 fingerprints."
   ]
  },
  {
   "cell_type": "markdown",
   "metadata": {},
   "source": [
    "### Calculate/load modified cosine score (here using Hungarian algorithm)\n",
    "+ Be aware: calculating those is **very slow** !\n",
    "+ Function below will load the given file and only calculate the scores from scratch if no such file is found."
   ]
  },
  {
   "cell_type": "code",
   "execution_count": 8,
   "metadata": {},
   "outputs": [
    {
     "name": "stdout",
     "output_type": "stream",
     "text": [
      "Complete MolNet similarity scores found and loaded.\n"
     ]
    }
   ],
   "source": [
    "filename = PATH_SAVE_DATA + \"MolNet_gnps_uniquesmiles_exp001_loss500_minpeak10_dec2_tol02_minmatch2_hungarian.npy\"\n",
    "molnet_sim_hung = MS_functions.molnet_matrix(spectra, \n",
    "                  tol = 0.2, \n",
    "                  max_mz = 1000, \n",
    "                  min_mz = 0, \n",
    "                  min_match = 2, \n",
    "                  min_intens = 0.01,\n",
    "                  filename = filename)"
   ]
  },
  {
   "cell_type": "markdown",
   "metadata": {},
   "source": [
    "### Calculate/load cosine scores \n",
    "+ Calculating is much faster than the modified cosine score, but can still become **slow**, especially when using small tolerances and little filtering (resulting in many peaks...). \n",
    "+ Commented out for this notebook, so only loading..."
   ]
  },
  {
   "cell_type": "code",
   "execution_count": 9,
   "metadata": {},
   "outputs": [],
   "source": [
    "#cosine_sim = MS_functions.cosine_matrix_fast(spectra,\n",
    "#                                           tol = 0.1,\n",
    "#                                           max_mz = 1000, \n",
    "#                                           min_mz = 0)\n",
    "\n",
    "filename = PATH_SAVE_DATA + \"cosine_gnps_uniquesmiles_exp001_loss500_minpeak10_dec2_tol01_minmatch1_minintens001_fast.npy\"\n",
    "cosine_sim = np.load(filename)"
   ]
  },
  {
   "cell_type": "markdown",
   "metadata": {},
   "source": [
    "### Calculate/load molecular similarity scores\n",
    "+ first calculate molecular fingerprints\n",
    "+ then calculate (or load if file exists) molecular similarity scores.  \n",
    "\n",
    "Method for calculating fingerprints here can be \"morgan1\", \"morgan2\", \"morgan3\" or \"daylight\". For morgan fingerprints scores will be based on Dice scores. For \"daylight\" fingerprint it will be Tanimoto scores. "
   ]
  },
  {
   "cell_type": "code",
   "execution_count": 10,
   "metadata": {
    "scrolled": true
   },
   "outputs": [
    {
     "name": "stdout",
     "output_type": "stream",
     "text": [
      "Problem with molecule 7402\n",
      "Could not be solved by using the InChikey.\n",
      "Problem with molecule 7452\n",
      "Could not be solved by using the InChikey.\n",
      "Problem with molecule 7522\n",
      "Could not be solved by using the InChikey.\n",
      "Problem with molecule 7612\n",
      "Could not be solved by using the InChikey.\n",
      "Problem with molecule 13527\n",
      "Could not be solved by using the InChikey.\n",
      "Problem with molecule 13771\n",
      "Could not be solved by using the InChikey.\n",
      "Problem with molecule 14111\n",
      "Could not be solved by using the InChikey.\n",
      "Problem with molecule 14429\n",
      "Could not be solved by using the InChikey.\n",
      "Problem with molecule 14652\n",
      "Could not be solved by using the InChikey.\n",
      "Problem with molecule 15085\n",
      "Could not be solved by using the InChikey.\n",
      "Problem with molecule 15140\n",
      "Could not be solved by using the InChikey.\n",
      "Problem with molecule 15175\n",
      "Could not be solved by using the InChikey.\n",
      "Problem with molecule 15531\n",
      "Could not be solved by using the InChikey.\n",
      "Problem with molecule 15810\n",
      "Could not be solved by using the InChikey.\n",
      "Problem with molecule 15981\n",
      "Could not be solved by using the InChikey.\n",
      "Problem with molecule 15997\n",
      "Could not be solved by using the InChikey.\n",
      "Problem with molecule 16095\n",
      "Could not be solved by using the InChikey.\n",
      "Problem with molecule 16129\n",
      "Could not be solved by using the InChikey.\n",
      "Problem with molecule 16151\n",
      "Could not be solved by using the InChikey.\n",
      "Problem with molecule 16160\n",
      "Could not be solved by using the InChikey.\n",
      "Problem with molecule 16163\n",
      "Could not be solved by using the InChikey.\n",
      "Problem with molecule 16706\n",
      "Could not be solved by using the InChikey.\n",
      "Problem with molecule 16707\n",
      "Could not be solved by using the InChikey.\n",
      "Problem with molecule 16708\n",
      "Could not be solved by using the InChikey.\n",
      "Problem with molecule 16709\n",
      "Could not be solved by using the InChikey.\n",
      "Problem with molecule 16710\n",
      "Could not be solved by using the InChikey.\n",
      "Problem with molecule 16711\n",
      "Could not be solved by using the InChikey.\n",
      "Problem with molecule 16885\n",
      "Could not be solved by using the InChikey.\n",
      "Problem with molecule 16981\n",
      "Could not be solved by using the InChikey.\n",
      "Problem with molecule 17119\n",
      "Could not be solved by using the InChikey.\n",
      "Problem with molecule 35001\n",
      "Could not be solved by using the InChikey.\n",
      "Problem with molecule 35006\n",
      "Could not be solved by using the InChikey.\n",
      "Problem with molecule 35008\n",
      "Could not be solved by using the InChikey.\n",
      "Problem with molecule 35009\n",
      "Could not be solved by using the InChikey.\n",
      "Problem with molecule 35013\n",
      "Could not be solved by using the InChikey.\n",
      "Problem with molecule 35014\n",
      "Could not be solved by using the InChikey.\n",
      "Problem with molecule 35016\n",
      "Could not be solved by using the InChikey.\n",
      "Problem with molecule 35018\n",
      "Could not be solved by using the InChikey.\n",
      "Problem with molecule 35021\n",
      "Could not be solved by using the InChikey.\n",
      "Problem with molecule 35022\n",
      "Could not be solved by using the InChikey.\n"
     ]
    }
   ],
   "source": [
    "molecules, fingerprints_m3, exclude_IDs = MS_functions.get_mol_fingerprints(spectra_dict, method = \"morgan3\")\n",
    "exclude = [np.where(np.array(sub_spectra_metadata)[:,1] == x)[0][0] for x in exclude_IDs]"
   ]
  },
  {
   "cell_type": "code",
   "execution_count": 12,
   "metadata": {},
   "outputs": [
    {
     "name": "stdout",
     "output_type": "stream",
     "text": [
      "Tanimoto similarity scores found and loaded.\n"
     ]
    }
   ],
   "source": [
    "filename = PATH_SAVE_DATA + \"tanimoto_gnps_uniquesmiles_exp001_loss500_minpeak10_dec2_morgan3.npy\"\n",
    "molecular_similarities = MS_functions.tanimoto_matrix(spectra, \n",
    "                                                      fingerprints_m3,\n",
    "                                                      filename = filename)"
   ]
  },
  {
   "cell_type": "markdown",
   "metadata": {},
   "source": [
    "### Calculate all-vs-all matrix for Word2Vec scores "
   ]
  },
  {
   "cell_type": "code",
   "execution_count": 14,
   "metadata": {},
   "outputs": [],
   "source": [
    "from scipy import spatial\n",
    "M_sim_ctr = 1 - spatial.distance.cdist(MS_measure.vectors_centroid, MS_measure.vectors_centroid, 'cosine')"
   ]
  },
  {
   "cell_type": "markdown",
   "metadata": {},
   "source": [
    "### Query: select possible spectral pairs of interest!"
   ]
  },
  {
   "cell_type": "code",
   "execution_count": 20,
   "metadata": {},
   "outputs": [
    {
     "name": "stdout",
     "output_type": "stream",
     "text": [
      "Found  (1038,)  matching spectral pairs.\n"
     ]
    }
   ],
   "source": [
    "pair_selection = np.where((cosine_sim < 0.4)\n",
    "                          & (molnet_sim_hung < 0.4)\n",
    "                & (M_sim_ctr > 0.85) \n",
    "                & (M_sim_ctr < 0.98) \n",
    "                & (molecular_similarities > 0.8))\n",
    "\n",
    "print(\"Found \", pair_selection[0].shape, \" matching spectral pairs.\")"
   ]
  },
  {
   "cell_type": "code",
   "execution_count": 24,
   "metadata": {},
   "outputs": [
    {
     "name": "stdout",
     "output_type": "stream",
     "text": [
      "Found  (3108,)  matching spectral pairs.\n"
     ]
    }
   ],
   "source": [
    "pair_selection = np.where((cosine_sim > 0.8)\n",
    "                          & (molnet_sim_hung >  0.9)\n",
    "                & (M_sim_ctr < 0.3)  \n",
    "                & (molecular_similarities < 0.3))\n",
    "\n",
    "print(\"Found \", pair_selection[0].shape, \" matching spectral pairs.\")"
   ]
  },
  {
   "cell_type": "code",
   "execution_count": 31,
   "metadata": {},
   "outputs": [
    {
     "name": "stdout",
     "output_type": "stream",
     "text": [
      "21 2815\n",
      "Word2Vec score:  -0.03648967602257014\n",
      "Cosine score:  0.9600780613508924\n",
      "Modified cosine score:  0.9495266503932949\n",
      "Word2Vec score:  0.17777777777777778\n",
      "\r",
      "  Created documents for  2  of  2  spectra."
     ]
    },
    {
     "data": {
      "image/png": "[encoded data removed]",
      "text/plain": [
       "<Figure size 864x864 with 3 Axes>"
      ]
     },
     "metadata": {
      "needs_background": "light"
     },
     "output_type": "display_data"
    },
    {
     "data": {
      "image/png": "[encoded data removed]",
      "text/plain": [
       "<Figure size 360x360 with 1 Axes>"
      ]
     },
     "metadata": {
      "needs_background": "light"
     },
     "output_type": "display_data"
    },
    {
     "data": {
      "image/png": "[encoded data removed]",
      "text/plain": [
       "<Figure size 360x360 with 1 Axes>"
      ]
     },
     "metadata": {
      "needs_background": "light"
     },
     "output_type": "display_data"
    }
   ],
   "source": [
    "id = 4\n",
    "ID1, ID2 = pair_selection[0][id], pair_selection[1][id]\n",
    "print(ID1, ID2)\n",
    "print(\"Word2Vec score: \", M_sim_ctr[ID1, ID2])\n",
    "print(\"Cosine score: \", cosine_sim[ID1, ID2])\n",
    "print(\"Modified cosine score: \", molnet_sim_hung[ID1, ID2])\n",
    "print(\"Word2Vec score: \", molecular_similarities[ID1, ID2])\n",
    "\n",
    "Csim_words = MS_functions.plot_spectra_comparison(MS_measure,\n",
    "                                                  spectra,\n",
    "                                                  2,\n",
    "                                                  ID1, ID2, \n",
    "                                                  min_mz = 0, \n",
    "                                                  max_mz = 1000,\n",
    "                                                  threshold = 0.001,\n",
    "                                                  wordsim_cutoff = 0.5,\n",
    "                                                  plot_molecules = True)\n"
   ]
  }
 ],
 "metadata": {
  "kernelspec": {
   "display_name": "Python 3",
   "language": "python",
   "name": "python3"
  },
  "language_info": {
   "codemirror_mode": {
    "name": "ipython",
    "version": 3
   },
   "file_extension": ".py",
   "mimetype": "text/x-python",
   "name": "python",
   "nbconvert_exporter": "python",
   "pygments_lexer": "ipython3",
   "version": "3.6.8"
  }
 },
 "nbformat": 4,
 "nbformat_minor": 2
}
