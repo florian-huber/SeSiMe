{
 "cells": [
  {
   "cell_type": "code",
   "execution_count": 2,
   "metadata": {},
   "outputs": [],
   "source": [
    "# Data locations\n",
    "ROOT = \"C:\\\\OneDrive - Netherlands eScience Center\\\\Project_Wageningen_iOMEGA\"\n",
    "PATH_MS_DATA = ROOT + \"\\\\Data\\\\GNPS_library_searches\\\\\"\n",
    "PATH_SAVE_MODEL = ROOT + \"\\\\SeSiMe\\\\models_trained\\\\\"\n",
    "PATH_SAVE_DATA = ROOT + \"\\\\SeSiMe\\\\data\\\\\"\n",
    "PATH_SESIME = ROOT + \"\\\\SeSiMe\\\\\"\n",
    "\n",
    "# Import general packages\n",
    "import sys\n",
    "sys.path.insert(0, PATH_SESIME)\n",
    "\n",
    "import helper_functions as functions\n",
    "import MS_functions\n",
    "import numpy as np"
   ]
  },
  {
   "cell_type": "markdown",
   "metadata": {},
   "source": [
    "# Dataset 1: gnps search (Justin, 2018-03-23)\n",
    "+ Spectral libraries search (to get spectra): https://gnps.ucsd.edu/ProteoSAFe/status.jsp?task=6e22f85aeb0744208e872d1640f508d9\n",
    "+ Library matching (to get metadata): https://gnps.ucsd.edu/ProteoSAFe/status.jsp?task=03fba62d93cb4cbfa3f72106d18f7d2c"
   ]
  },
  {
   "cell_type": "code",
   "execution_count": 3,
   "metadata": {},
   "outputs": [],
   "source": [
    "# data locations\n",
    "ROOT = \"C:\\\\OneDrive - Netherlands eScience Center\\\\Project_Wageningen_iOMEGA\"\n",
    "PATH_MS_DATA = ROOT + \"\\\\Data\\\\GNPS_library_searches\\\\\"\n",
    "PATH_SAVE_MODEL = ROOT + \"\\\\SeSiMe\\\\models_trained\\\\\"\n",
    "PATH_SAVE_DATA = ROOT + \"\\\\SeSiMe\\\\data\\\\\"\n",
    "PATH_SESIME = ROOT + \"\\\\SeSiMe\\\\\"\n",
    "\n",
    "#PATH_NPLINKER = ROOT + \"\\\\nplinker\\\\prototype\\\\\"\n",
    "mgf_file = PATH_MS_DATA + \"METABOLOMICS-SNETS-6e22f85a-download_clustered_spectra-main.mgf\""
   ]
  },
  {
   "cell_type": "markdown",
   "metadata": {},
   "source": [
    "### Plotting function (to visualy inspect two spectra)"
   ]
  },
  {
   "cell_type": "code",
   "execution_count": 4,
   "metadata": {},
   "outputs": [],
   "source": [
    "from matplotlib import pyplot as plt\n",
    "\n",
    "def compare_spectra(spec1, spec2, min_mz = None, max_mz = None):\n",
    "    \"\"\" Plot different spectra together to compare.\n",
    "    \"\"\"\n",
    "    plt.figure(figsize=(10,10))\n",
    "\n",
    "    peak_number = []\n",
    "    new_min_mz = 9999\n",
    "    new_max_mz = 0\n",
    "    colors = ['crimson', 'teal']\n",
    "    for i, spec in enumerate([spec1, spec2]):\n",
    "        peaks = np.array(spec.peaks.copy())\n",
    "        peak_number.append(len(peaks))\n",
    "        peaks[:,1] = peaks[:,1]/np.max(peaks[:,1]); \n",
    "\n",
    "        if new_min_mz > np.min(peaks[:,0]):\n",
    "            new_min_mz = np.min(peaks[:,0])\n",
    "        if new_max_mz < np.max(peaks[:,0]):\n",
    "            new_max_mz = np.max(peaks[:,0])\n",
    "\n",
    "        markerline, stemlines, baseline = plt.stem(peaks[:,0], (-1)**(i+1)*peaks[:,1], linefmt='-', markerfmt='.', basefmt='r-')\n",
    "        plt.setp(stemlines, 'color', colors[i])\n",
    "    \n",
    "    if min_mz == None: #then update\n",
    "        min_mz = max(0, (new_min_mz - 5))\n",
    "    if max_mz == None: #then update\n",
    "        max_mz = new_max_mz + 10\n",
    "        \n",
    "    plt.xlim((min_mz, max_mz))\n",
    "    plt.grid(True)\n",
    "    plt.title('Spectrum')\n",
    "    plt.xlabel('m/z')\n",
    "    plt.ylabel('peak intensity')\n",
    "    \n",
    "    plt.show()\n",
    "    \n",
    "    print(\"Number of peaks: \", peak_number)"
   ]
  },
  {
   "cell_type": "markdown",
   "metadata": {},
   "source": [
    "### Madeleine's script to create MGF for unique_smiles"
   ]
  },
  {
   "cell_type": "code",
   "execution_count": 5,
   "metadata": {},
   "outputs": [
    {
     "name": "stderr",
     "output_type": "stream",
     "text": [
      "C:\\Users\\FlorianHuber\\Anaconda3\\envs\\SeSiMe\\lib\\site-packages\\IPython\\core\\interactiveshell.py:3020: DtypeWarning: Columns (10,25) have mixed types. Specify dtype option on import or set low_memory=False.\n",
      "  interactivity=interactivity, compiler=compiler, result=result)\n"
     ]
    }
   ],
   "source": [
    "\"\"\"\n",
    "Created on Fri Nov  9 10:23:22 2018\n",
    "@author: madeleineernst\n",
    "\"\"\"\n",
    "#############################################################################################################\n",
    "#                                                                                                           #\n",
    "#  compile .mgf file of unique InChIKeys and associated MS/MS spectra retrieved from GNPS Libraries         #\n",
    "#                                                                                                           #\n",
    "#############################################################################################################\n",
    "\n",
    "from pyteomics import mgf, auxiliary\n",
    "import pandas as pd\n",
    "import numpy as np\n",
    "\n",
    "# load GNPS library matches downloaded from https://gnps.ucsd.edu/ProteoSAFe/status.jsp?task=03fba62d93cb4cbfa3f72106d18f7d2c\n",
    "lib = pd.read_csv(PATH_MS_DATA + \"MOLECULAR-LIBRARYSEARCH-03fba62d-view_all_annotations_DB-main.tsv\", sep = \"\\t\")\n",
    "# load SMILES and associated InChIKeys \n",
    "# SMILES were converted to InChIKeys using Marvin Beans MolConverter: https://chemaxon.com/marvin-archive/3.3.3/marvin/doc/user/molconvert.html\n",
    "smiles = pd.read_csv(PATH_MS_DATA + \"SMILES_GNPSLibraries.csv\",sep=',', index_col = 0)\n",
    "ikeys = pd.read_csv(PATH_MS_DATA + \"InchiKeys_GNPSLibraries.txt\",  sep='\\t',header = None)\n",
    "\n",
    "lib = lib.dropna(subset=['Smiles'])  \n",
    "lib = lib[lib.Smiles != ' ']\n",
    "lib['Smiles'] = lib['Smiles'].str.strip() # remove white spaces\n",
    "\n",
    "ikeys = [j for i in ikeys.values.tolist() for j in i]\n",
    "ikeys = [w.replace('InChIKey=', '') for w in ikeys]\n",
    "smiles[\"inchikey\"] = ikeys\n",
    "smiles = smiles.rename(columns = {'SMILES':'Smiles'})\n",
    "smiles = smiles.drop_duplicates(subset=['Smiles']) \n",
    "\n",
    "libcomb = pd.merge(lib, smiles,how=\"left\",on=\"Smiles\")\n",
    "libcomb = libcomb.dropna(subset=['inchikey'])\n",
    "libcomb = libcomb.drop_duplicates(subset='inchikey', keep='first', inplace=False) # remove duplicate InChIKeys"
   ]
  },
  {
   "cell_type": "code",
   "execution_count": 6,
   "metadata": {},
   "outputs": [
    {
     "data": {
      "text/plain": [
       "(12969, 12969)"
      ]
     },
     "execution_count": 6,
     "metadata": {},
     "output_type": "execute_result"
    }
   ],
   "source": [
    "len(smiles.values[:,0]), len(list(set(smiles.values[:,0])))"
   ]
  },
  {
   "cell_type": "code",
   "execution_count": 190,
   "metadata": {},
   "outputs": [
    {
     "data": {
      "text/html": [
       "<div>\n",
       "<style scoped>\n",
       "    .dataframe tbody tr th:only-of-type {\n",
       "        vertical-align: middle;\n",
       "    }\n",
       "\n",
       "    .dataframe tbody tr th {\n",
       "        vertical-align: top;\n",
       "    }\n",
       "\n",
       "    .dataframe thead th {\n",
       "        text-align: right;\n",
       "    }\n",
       "</style>\n",
       "<table border=\"1\" class=\"dataframe\">\n",
       "  <thead>\n",
       "    <tr style=\"text-align: right;\">\n",
       "      <th></th>\n",
       "      <th>Smiles</th>\n",
       "      <th>inchikey</th>\n",
       "    </tr>\n",
       "  </thead>\n",
       "  <tbody>\n",
       "    <tr>\n",
       "      <th>0</th>\n",
       "      <td>C1CNCCN1</td>\n",
       "      <td>GLUUGHFHXGJENI-UHFFFAOYSA-N</td>\n",
       "    </tr>\n",
       "    <tr>\n",
       "      <th>1</th>\n",
       "      <td>COC(=O)C1=CO[C@@H](C)[C@@H]2CN(CCc3c[nH]c4cccc...</td>\n",
       "      <td>NYNOIMNCLKTWCG-WBAXXEDZSA-N</td>\n",
       "    </tr>\n",
       "    <tr>\n",
       "      <th>2</th>\n",
       "      <td>O=C1C2=C(O)C=C(O)C=C2O[C@H](C3=CC(O)=C(O)C=C3)...</td>\n",
       "      <td>CXQWRCVTCMQVQX-LSDHHAIUSA-N</td>\n",
       "    </tr>\n",
       "    <tr>\n",
       "      <th>3</th>\n",
       "      <td>Nc1ncnc2n(cc(c3ccc(Oc4ccccc4)cc3)c12)C5CCCC5</td>\n",
       "      <td>FMETVQKSDIOGPX-UHFFFAOYSA-N</td>\n",
       "    </tr>\n",
       "    <tr>\n",
       "      <th>4</th>\n",
       "      <td>C(C8=O)([H])(N(C2=O)C(C(N87)(C([H])([H])C([H])...</td>\n",
       "      <td>HEFIYUQVAZFDEE-UHFFFAOYSA-N</td>\n",
       "    </tr>\n",
       "  </tbody>\n",
       "</table>\n",
       "</div>"
      ],
      "text/plain": [
       "                                              Smiles  \\\n",
       "0                                           C1CNCCN1   \n",
       "1  COC(=O)C1=CO[C@@H](C)[C@@H]2CN(CCc3c[nH]c4cccc...   \n",
       "2  O=C1C2=C(O)C=C(O)C=C2O[C@H](C3=CC(O)=C(O)C=C3)...   \n",
       "3       Nc1ncnc2n(cc(c3ccc(Oc4ccccc4)cc3)c12)C5CCCC5   \n",
       "4  C(C8=O)([H])(N(C2=O)C(C(N87)(C([H])([H])C([H])...   \n",
       "\n",
       "                      inchikey  \n",
       "0  GLUUGHFHXGJENI-UHFFFAOYSA-N  \n",
       "1  NYNOIMNCLKTWCG-WBAXXEDZSA-N  \n",
       "2  CXQWRCVTCMQVQX-LSDHHAIUSA-N  \n",
       "3  FMETVQKSDIOGPX-UHFFFAOYSA-N  \n",
       "4  HEFIYUQVAZFDEE-UHFFFAOYSA-N  "
      ]
     },
     "execution_count": 190,
     "metadata": {},
     "output_type": "execute_result"
    }
   ],
   "source": [
    "smiles.head()"
   ]
  },
  {
   "cell_type": "code",
   "execution_count": 193,
   "metadata": {},
   "outputs": [
    {
     "data": {
      "text/plain": [
       "11134"
      ]
     },
     "execution_count": 193,
     "metadata": {},
     "output_type": "execute_result"
    }
   ],
   "source": [
    "len(set(libcomb['#Scan#'].values))"
   ]
  },
  {
   "cell_type": "code",
   "execution_count": 4,
   "metadata": {},
   "outputs": [
    {
     "data": {
      "text/html": [
       "<div>\n",
       "<style scoped>\n",
       "    .dataframe tbody tr th:only-of-type {\n",
       "        vertical-align: middle;\n",
       "    }\n",
       "\n",
       "    .dataframe tbody tr th {\n",
       "        vertical-align: top;\n",
       "    }\n",
       "\n",
       "    .dataframe thead th {\n",
       "        text-align: right;\n",
       "    }\n",
       "</style>\n",
       "<table border=\"1\" class=\"dataframe\">\n",
       "  <thead>\n",
       "    <tr style=\"text-align: right;\">\n",
       "      <th></th>\n",
       "      <th>#Scan#</th>\n",
       "      <th>Adduct</th>\n",
       "      <th>CAS_Number</th>\n",
       "      <th>Charge</th>\n",
       "      <th>Compound_Name</th>\n",
       "      <th>Compound_Source</th>\n",
       "      <th>Data_Collector</th>\n",
       "      <th>ExactMass</th>\n",
       "      <th>FileScanUniqueID</th>\n",
       "      <th>INCHI</th>\n",
       "      <th>...</th>\n",
       "      <th>Smiles</th>\n",
       "      <th>SpecCharge</th>\n",
       "      <th>SpecMZ</th>\n",
       "      <th>SpectrumFile</th>\n",
       "      <th>SpectrumID</th>\n",
       "      <th>TIC_Query</th>\n",
       "      <th>UpdateWorkflowName</th>\n",
       "      <th>tags</th>\n",
       "      <th>internalFilename</th>\n",
       "      <th>inchikey</th>\n",
       "    </tr>\n",
       "  </thead>\n",
       "  <tbody>\n",
       "    <tr>\n",
       "      <th>0</th>\n",
       "      <td>37597</td>\n",
       "      <td>M+H</td>\n",
       "      <td>NaN</td>\n",
       "      <td>1</td>\n",
       "      <td>MLS002172445-01!BRL 15572</td>\n",
       "      <td>NIH Pharmacologically Active Library</td>\n",
       "      <td>VP/LMS</td>\n",
       "      <td>406.181</td>\n",
       "      <td>spectrapklbin/spec-00000.mgf37597</td>\n",
       "      <td>NaN</td>\n",
       "      <td>...</td>\n",
       "      <td>OC(CN1CCN(CC1)c2cccc(Cl)c2)C(c3ccccc3)c4ccccc4.Cl</td>\n",
       "      <td>1</td>\n",
       "      <td>407.192</td>\n",
       "      <td>METABOLOMICS-SNETS-6e22f85a-download_clustered...</td>\n",
       "      <td>CCMSLIB00000085886</td>\n",
       "      <td>3533120.0</td>\n",
       "      <td>UPDATE-SINGLE-ANNOTATED-GOLD</td>\n",
       "      <td></td>\n",
       "      <td>spec-00000.mgf</td>\n",
       "      <td>KQGJIKWDFWLCHO-UHFFFAOYSA-N</td>\n",
       "    </tr>\n",
       "    <tr>\n",
       "      <th>1</th>\n",
       "      <td>88458</td>\n",
       "      <td>M+H</td>\n",
       "      <td>NaN</td>\n",
       "      <td>1</td>\n",
       "      <td>MLS001032355-01!N-pyridin-3-yl-2-[(4,8,8-trime...</td>\n",
       "      <td>NIH Natural Product Library</td>\n",
       "      <td>VVP/LMS</td>\n",
       "      <td>394.153</td>\n",
       "      <td>spectrapklbin/spec-00000.mgf88458</td>\n",
       "      <td>NaN</td>\n",
       "      <td>...</td>\n",
       "      <td>Cc1cc(=O)oc2c3CCC(C)(C)Oc3cc(OCC(=O)Nc4cccnc4)c12</td>\n",
       "      <td>1</td>\n",
       "      <td>395.161</td>\n",
       "      <td>METABOLOMICS-SNETS-6e22f85a-download_clustered...</td>\n",
       "      <td>CCMSLIB00000079962</td>\n",
       "      <td>2097800.0</td>\n",
       "      <td>UPDATE-SINGLE-ANNOTATED-GOLD</td>\n",
       "      <td></td>\n",
       "      <td>spec-00000.mgf</td>\n",
       "      <td>LVQGEYGJUNSKKW-UHFFFAOYSA-N</td>\n",
       "    </tr>\n",
       "    <tr>\n",
       "      <th>2</th>\n",
       "      <td>88090</td>\n",
       "      <td>M+H</td>\n",
       "      <td>NaN</td>\n",
       "      <td>1</td>\n",
       "      <td>MLS001158282-01!(2S)-2-[[(2S)-2-(1,2-dihydroim...</td>\n",
       "      <td>NIH Natural Product Library</td>\n",
       "      <td>VVP/LMS</td>\n",
       "      <td>463.222</td>\n",
       "      <td>spectrapklbin/spec-00000.mgf88090</td>\n",
       "      <td>NaN</td>\n",
       "      <td>...</td>\n",
       "      <td>CC(C)C[C@H](NC(=O)N1CCn2c1nc3ccccc23)C(=O)N[C@...</td>\n",
       "      <td>1</td>\n",
       "      <td>464.230</td>\n",
       "      <td>METABOLOMICS-SNETS-6e22f85a-download_clustered...</td>\n",
       "      <td>CCMSLIB00000079592</td>\n",
       "      <td>2165400.0</td>\n",
       "      <td>UPDATE-SINGLE-ANNOTATED-GOLD</td>\n",
       "      <td></td>\n",
       "      <td>spec-00000.mgf</td>\n",
       "      <td>RWSJPESCUJCQNS-PMACEKPBSA-N</td>\n",
       "    </tr>\n",
       "    <tr>\n",
       "      <th>3</th>\n",
       "      <td>37673</td>\n",
       "      <td>M+H</td>\n",
       "      <td>NaN</td>\n",
       "      <td>1</td>\n",
       "      <td>MLS000701320-01!N-(4,5-diphenyl-1H-pyrazolo[3,...</td>\n",
       "      <td>NIH Pharmacologically Active Library</td>\n",
       "      <td>VP/LMS</td>\n",
       "      <td>406.154</td>\n",
       "      <td>spectrapklbin/spec-00000.mgf37673</td>\n",
       "      <td>NaN</td>\n",
       "      <td>...</td>\n",
       "      <td>O=C(Nc1[nH]nc2nnc(c3ccccc3)c(c4ccccc4)c12)Nc5c...</td>\n",
       "      <td>1</td>\n",
       "      <td>407.160</td>\n",
       "      <td>METABOLOMICS-SNETS-6e22f85a-download_clustered...</td>\n",
       "      <td>CCMSLIB00000085962</td>\n",
       "      <td>3356090.0</td>\n",
       "      <td>UPDATE-SINGLE-ANNOTATED-GOLD</td>\n",
       "      <td></td>\n",
       "      <td>spec-00000.mgf</td>\n",
       "      <td>BUUXBIIFLQVFAR-UHFFFAOYSA-N</td>\n",
       "    </tr>\n",
       "    <tr>\n",
       "      <th>4</th>\n",
       "      <td>37985</td>\n",
       "      <td>[M+H]</td>\n",
       "      <td>150322-43-3, 389574-19-0 (HCl), 389574-20-3 (M...</td>\n",
       "      <td>1</td>\n",
       "      <td>Prasugrel (Effient)</td>\n",
       "      <td>Commercial</td>\n",
       "      <td>Garg_Neha</td>\n",
       "      <td>373.115</td>\n",
       "      <td>spectrapklbin/spec-00000.mgf37985</td>\n",
       "      <td>NaN</td>\n",
       "      <td>...</td>\n",
       "      <td>C(C(C1C(=CC=CC=1)F)N2CCC3=C(C2)C=C(S3)OC(=O)C)...</td>\n",
       "      <td>1</td>\n",
       "      <td>374.122</td>\n",
       "      <td>METABOLOMICS-SNETS-6e22f85a-download_clustered...</td>\n",
       "      <td>CCMSLIB00000078073</td>\n",
       "      <td>3051020.0</td>\n",
       "      <td>UPDATE-SINGLE-ANNOTATED-GOLD</td>\n",
       "      <td></td>\n",
       "      <td>spec-00000.mgf</td>\n",
       "      <td>DTGLZDAWLRGWQN-UHFFFAOYSA-N</td>\n",
       "    </tr>\n",
       "  </tbody>\n",
       "</table>\n",
       "<p>5 rows × 38 columns</p>\n",
       "</div>"
      ],
      "text/plain": [
       "   #Scan# Adduct                                         CAS_Number  Charge  \\\n",
       "0   37597    M+H                                                NaN       1   \n",
       "1   88458    M+H                                                NaN       1   \n",
       "2   88090    M+H                                                NaN       1   \n",
       "3   37673    M+H                                                NaN       1   \n",
       "4   37985  [M+H]  150322-43-3, 389574-19-0 (HCl), 389574-20-3 (M...       1   \n",
       "\n",
       "                                       Compound_Name  \\\n",
       "0                          MLS002172445-01!BRL 15572   \n",
       "1  MLS001032355-01!N-pyridin-3-yl-2-[(4,8,8-trime...   \n",
       "2  MLS001158282-01!(2S)-2-[[(2S)-2-(1,2-dihydroim...   \n",
       "3  MLS000701320-01!N-(4,5-diphenyl-1H-pyrazolo[3,...   \n",
       "4                                Prasugrel (Effient)   \n",
       "\n",
       "                        Compound_Source Data_Collector  ExactMass  \\\n",
       "0  NIH Pharmacologically Active Library         VP/LMS    406.181   \n",
       "1           NIH Natural Product Library        VVP/LMS    394.153   \n",
       "2           NIH Natural Product Library        VVP/LMS    463.222   \n",
       "3  NIH Pharmacologically Active Library         VP/LMS    406.154   \n",
       "4                            Commercial      Garg_Neha    373.115   \n",
       "\n",
       "                    FileScanUniqueID INCHI  ...  \\\n",
       "0  spectrapklbin/spec-00000.mgf37597   NaN  ...   \n",
       "1  spectrapklbin/spec-00000.mgf88458   NaN  ...   \n",
       "2  spectrapklbin/spec-00000.mgf88090   NaN  ...   \n",
       "3  spectrapklbin/spec-00000.mgf37673   NaN  ...   \n",
       "4  spectrapklbin/spec-00000.mgf37985   NaN  ...   \n",
       "\n",
       "                                              Smiles SpecCharge   SpecMZ  \\\n",
       "0  OC(CN1CCN(CC1)c2cccc(Cl)c2)C(c3ccccc3)c4ccccc4.Cl          1  407.192   \n",
       "1  Cc1cc(=O)oc2c3CCC(C)(C)Oc3cc(OCC(=O)Nc4cccnc4)c12          1  395.161   \n",
       "2  CC(C)C[C@H](NC(=O)N1CCn2c1nc3ccccc23)C(=O)N[C@...          1  464.230   \n",
       "3  O=C(Nc1[nH]nc2nnc(c3ccccc3)c(c4ccccc4)c12)Nc5c...          1  407.160   \n",
       "4  C(C(C1C(=CC=CC=1)F)N2CCC3=C(C2)C=C(S3)OC(=O)C)...          1  374.122   \n",
       "\n",
       "                                        SpectrumFile          SpectrumID  \\\n",
       "0  METABOLOMICS-SNETS-6e22f85a-download_clustered...  CCMSLIB00000085886   \n",
       "1  METABOLOMICS-SNETS-6e22f85a-download_clustered...  CCMSLIB00000079962   \n",
       "2  METABOLOMICS-SNETS-6e22f85a-download_clustered...  CCMSLIB00000079592   \n",
       "3  METABOLOMICS-SNETS-6e22f85a-download_clustered...  CCMSLIB00000085962   \n",
       "4  METABOLOMICS-SNETS-6e22f85a-download_clustered...  CCMSLIB00000078073   \n",
       "\n",
       "   TIC_Query            UpdateWorkflowName  tags  internalFilename  \\\n",
       "0  3533120.0  UPDATE-SINGLE-ANNOTATED-GOLD          spec-00000.mgf   \n",
       "1  2097800.0  UPDATE-SINGLE-ANNOTATED-GOLD          spec-00000.mgf   \n",
       "2  2165400.0  UPDATE-SINGLE-ANNOTATED-GOLD          spec-00000.mgf   \n",
       "3  3356090.0  UPDATE-SINGLE-ANNOTATED-GOLD          spec-00000.mgf   \n",
       "4  3051020.0  UPDATE-SINGLE-ANNOTATED-GOLD          spec-00000.mgf   \n",
       "\n",
       "                      inchikey  \n",
       "0  KQGJIKWDFWLCHO-UHFFFAOYSA-N  \n",
       "1  LVQGEYGJUNSKKW-UHFFFAOYSA-N  \n",
       "2  RWSJPESCUJCQNS-PMACEKPBSA-N  \n",
       "3  BUUXBIIFLQVFAR-UHFFFAOYSA-N  \n",
       "4  DTGLZDAWLRGWQN-UHFFFAOYSA-N  \n",
       "\n",
       "[5 rows x 38 columns]"
      ]
     },
     "execution_count": 4,
     "metadata": {},
     "output_type": "execute_result"
    }
   ],
   "source": [
    "libcomb.head()"
   ]
  },
  {
   "cell_type": "code",
   "execution_count": 28,
   "metadata": {},
   "outputs": [
    {
     "data": {
      "text/html": [
       "<div>\n",
       "<style scoped>\n",
       "    .dataframe tbody tr th:only-of-type {\n",
       "        vertical-align: middle;\n",
       "    }\n",
       "\n",
       "    .dataframe tbody tr th {\n",
       "        vertical-align: top;\n",
       "    }\n",
       "\n",
       "    .dataframe thead th {\n",
       "        text-align: right;\n",
       "    }\n",
       "</style>\n",
       "<table border=\"1\" class=\"dataframe\">\n",
       "  <thead>\n",
       "    <tr style=\"text-align: right;\">\n",
       "      <th></th>\n",
       "      <th>#Scan#</th>\n",
       "      <th>Adduct</th>\n",
       "      <th>CAS_Number</th>\n",
       "      <th>Charge</th>\n",
       "      <th>Compound_Name</th>\n",
       "      <th>Compound_Source</th>\n",
       "      <th>Data_Collector</th>\n",
       "      <th>ExactMass</th>\n",
       "      <th>FileScanUniqueID</th>\n",
       "      <th>INCHI</th>\n",
       "      <th>...</th>\n",
       "      <th>Smiles</th>\n",
       "      <th>SpecCharge</th>\n",
       "      <th>SpecMZ</th>\n",
       "      <th>SpectrumFile</th>\n",
       "      <th>SpectrumID</th>\n",
       "      <th>TIC_Query</th>\n",
       "      <th>UpdateWorkflowName</th>\n",
       "      <th>tags</th>\n",
       "      <th>internalFilename</th>\n",
       "      <th>inchikey</th>\n",
       "    </tr>\n",
       "  </thead>\n",
       "  <tbody>\n",
       "  </tbody>\n",
       "</table>\n",
       "<p>0 rows × 38 columns</p>\n",
       "</div>"
      ],
      "text/plain": [
       "Empty DataFrame\n",
       "Columns: [#Scan#, Adduct, CAS_Number, Charge, Compound_Name, Compound_Source, Data_Collector, ExactMass, FileScanUniqueID, INCHI, INCHI_AUX, Instrument, IonMode, Ion_Source, LibMZ, LibraryName, LibraryQualityString, Library_Class, MQScore, MZErrorPPM, MassDiff, NumberHits, Organism, PI, Precursor_MZ, Pubmed_ID, RT_Query, SharedPeaks, Smiles, SpecCharge, SpecMZ, SpectrumFile, SpectrumID, TIC_Query, UpdateWorkflowName, tags, internalFilename, inchikey]\n",
       "Index: []\n",
       "\n",
       "[0 rows x 38 columns]"
      ]
     },
     "execution_count": 28,
     "metadata": {},
     "output_type": "execute_result"
    }
   ],
   "source": [
    "libcomb.loc[libcomb['#Scan#'] == 33238]"
   ]
  },
  {
   "cell_type": "markdown",
   "metadata": {},
   "source": [
    "## How to deal with '-1+' charge ?\n",
    "I checked part of the metadata and \"CHARGE=-1+\" seems to actually mean \"CHARGE=-1\". So, in the following I will simply replace it in the mgf file."
   ]
  },
  {
   "cell_type": "code",
   "execution_count": 25,
   "metadata": {},
   "outputs": [],
   "source": [
    "import fileinput\n",
    "\n",
    "with fileinput.FileInput(mgf_file, inplace=True, backup='.bak') as file:\n",
    "    for line in file:\n",
    "        print(line.replace('-1+', '-1'), end='')"
   ]
  },
  {
   "cell_type": "code",
   "execution_count": 212,
   "metadata": {},
   "outputs": [
    {
     "name": "stdout",
     "output_type": "stream",
     "text": [
      "being at  0 of  107238 spectra.\n",
      "being at  10000 of  107238 spectra.\n",
      "being at  20000 of  107238 spectra.\n",
      "being at  30000 of  107238 spectra.\n",
      "being at  40000 of  107238 spectra.\n",
      "being at  50000 of  107238 spectra.\n",
      "being at  60000 of  107238 spectra.\n",
      "being at  70000 of  107238 spectra.\n",
      "being at  80000 of  107238 spectra.\n",
      "being at  90000 of  107238 spectra.\n",
      "being at  100000 of  107238 spectra.\n"
     ]
    }
   ],
   "source": [
    "# modified code from madeleine -> sped up mostly\n",
    "#scans = libcomb['#Scan#'].tolist() #libcomb.Scan.tolist()\n",
    "scans = libcomb['#Scan#'].tolist()\n",
    "\n",
    "mgf_file = PATH_MS_DATA + \"METABOLOMICS-SNETS-6e22f85a-download_clustered_spectra-main.mgf\"\n",
    "\n",
    "counter=0\n",
    "with mgf.read(mgf_file) as reader:\n",
    "    for i, spectrum in enumerate(reader):\n",
    "        if i/10000 == i//10000: #show progress\n",
    "            print(\"being at \",i, \"of \", len(reader), \"spectra.\")\n",
    "            \n",
    "        if int(spectrum['params']['scans']) in scans:\n",
    "            idx = scans.index(int(spectrum['params']['scans']))\n",
    "            scan = scans[idx]\n",
    "            if spectrum['params']['scans'] == str(scan):\n",
    "                file_name = '{}.mgf'.format(PATH_MS_DATA + \"GNPSLibraries_uniqueSMILES_withFeatureIDs_2\")\n",
    "                spectrum['params']['SMILES'] = libcomb.Smiles.tolist()[idx]\n",
    "                spectrum['params']['InchiKey'] = libcomb.inchikey.tolist()[idx]\n",
    "                counter+=1\n",
    "                spectrum['params']['FEATURE_ID'] = counter\n",
    "                mgf.write((spectrum,), file_name)"
   ]
  },
  {
   "cell_type": "code",
   "execution_count": 7,
   "metadata": {},
   "outputs": [
    {
     "name": "stdout",
     "output_type": "stream",
     "text": [
      "Spectra json file found and loaded.\n"
     ]
    }
   ],
   "source": [
    "# Import / Load data from dataset\n",
    "results_file = \"filtered_data_JustinLibrarySearch_minpeak10_loss500_2dec_exp001.json\"\n",
    "mgf_file = PATH_MS_DATA + \"GNPSLibraries_uniqueSMILES_withFeatureIDs.mgf\"\n",
    "\n",
    "spectra_ref, spectra_dict_ref, MS_documents_ref, MS_documents_intensity_ref, sub_spectra_metadata_ref = MS_functions.load_MGF_data(PATH_SAVE_DATA,\n",
    "                  mgf_file, \n",
    "                 results_file = results_file,\n",
    "                 num_decimals = 2,\n",
    "                 min_frag = 0.0, max_frag = 1000.0,\n",
    "                 min_loss = 5.0, max_loss = 500.0,\n",
    "                 min_intensity_perc = 0,\n",
    "                 exp_intensity_filter = 0.01,\n",
    "                 min_peaks = 10,\n",
    "                 max_peaks = None,\n",
    "                 peaks_per_mz = 15/200,\n",
    "                 peak_loss_words = ['peak_', 'loss_'])"
   ]
  },
  {
   "cell_type": "markdown",
   "metadata": {},
   "source": [
    "---\n",
    "# Dataset 2: all gnps library selection\n",
    "+ Check notebook: SeSiMe_MS_gnps_search_libraries.ipynb\n",
    "+ About 77,000 spectra"
   ]
  },
  {
   "cell_type": "markdown",
   "metadata": {},
   "source": [
    "### Replace '-1+' by '-1'"
   ]
  },
  {
   "cell_type": "code",
   "execution_count": 64,
   "metadata": {},
   "outputs": [],
   "source": [
    "input_file = ROOT + \"\\\\Data\\\\GNPS_all\\\\\" + \"all_gnps_with_smiles_191010.mgf\"\n",
    "output_file = open(ROOT + \"\\\\Data\\\\GNPS_all\\\\\" + \"all_gnps_with_smiles_191010_modified.mgf\", 'w')\n",
    "\n",
    "with open(input_file, 'r') as file:\n",
    "    for line in file:\n",
    "        #line = file.readline()\n",
    "        output_file.write(line.replace('-1+', '-1'))"
   ]
  },
  {
   "cell_type": "code",
   "execution_count": 6,
   "metadata": {},
   "outputs": [
    {
     "name": "stdout",
     "output_type": "stream",
     "text": [
      "Spectra json file found and loaded.\n"
     ]
    }
   ],
   "source": [
    "results_file = \"filtered_data_LibrariesAllSmiles_minpeak10_loss500_2dec_exp001.json\"\n",
    "mgf_file = ROOT + \"\\\\Data\\\\GNPS_all\\\\\" + \"all_gnps_with_smiles_191010_modified.mgf\"\n",
    "\n",
    "spectra, spectra_dict, MS_documents, MS_documents_intensity, sub_spectra_metadata = MS_functions.load_MGF_data(PATH_SAVE_DATA,\n",
    "                  mgf_file, \n",
    "                 results_file = results_file,\n",
    "                 num_decimals = 2,\n",
    "                 min_frag = 0.0, max_frag = 1000.0,\n",
    "                 min_loss = 5.0, max_loss = 500.0,\n",
    "                 min_intensity_perc = 0,\n",
    "                 exp_intensity_filter = 0.01, #None\n",
    "                 min_peaks = 10,\n",
    "                 max_peaks = None,\n",
    "                 peaks_per_mz = 15/200,\n",
    "                 peak_loss_words = ['peak_', 'loss_'])"
   ]
  },
  {
   "cell_type": "code",
   "execution_count": 215,
   "metadata": {},
   "outputs": [
    {
     "data": {
      "text/plain": [
       "(56102, 9565)"
      ]
     },
     "execution_count": 215,
     "metadata": {},
     "output_type": "execute_result"
    }
   ],
   "source": [
    "len(spectra), len(spectra_ref)"
   ]
  },
  {
   "cell_type": "markdown",
   "metadata": {},
   "source": [
    "# Compare dataset and find overlap"
   ]
  },
  {
   "cell_type": "markdown",
   "metadata": {},
   "source": [
    "### Find matches based on pepmass (+ cosine score)"
   ]
  },
  {
   "cell_type": "code",
   "execution_count": 216,
   "metadata": {},
   "outputs": [],
   "source": [
    "# Compare allGNPS and uniquesmiles MGFs\n",
    "decimals = 2\n",
    "\n",
    "pepmasses = []\n",
    "for spec in spectra_ref:\n",
    "    pepmasses.append(spec.metadata['pepmass'][0])\n",
    "\n",
    "target_mz = np.array(pepmasses)\n",
    "target_mz  = np.round(target_mz, decimals)\n",
    "\n",
    "pepmasses = []\n",
    "for spec in spectra:\n",
    "    pepmasses.append(spec.metadata['pepmass'][0])\n",
    "\n",
    "allGNPS_mz = np.array(pepmasses)\n",
    "allGNPS_mz  = np.round(allGNPS_mz, decimals)"
   ]
  },
  {
   "cell_type": "markdown",
   "metadata": {},
   "source": [
    "### Machtes for equal pepmass (within 2 decimals) and cosine score > 0.7):"
   ]
  },
  {
   "cell_type": "code",
   "execution_count": 217,
   "metadata": {},
   "outputs": [
    {
     "name": "stdout",
     "output_type": "stream",
     "text": [
      "Found spectra matches for 6417 out of 9565 spectra.\n",
      "Found total of 13189 cosine score confirmed matches.\n"
     ]
    }
   ],
   "source": [
    "decimals = 2\n",
    "cosine_threshold = 0.7\n",
    "cosine_tol = 0.01\n",
    "\n",
    "find_precursor_matches = []\n",
    "find_precursor_matches_confirmed = []\n",
    "find_precursor_matches_not_confirmed = []\n",
    "find_target_matched = np.zeros((len(spectra)))\n",
    "\n",
    "for i, pepmass in enumerate(target_mz):\n",
    "    found_ones = np.where(allGNPS_mz == np.round(pepmass, decimals))[0]\n",
    "    found_match = 0\n",
    "    if len(found_ones) > 0:\n",
    "        for one in found_ones:\n",
    "            cosine_score = MS_functions.cosine_score(spectra_ref[i], spectra[one], tol = cosine_tol)[0]\n",
    "            if cosine_score > cosine_threshold:\n",
    "                found_match = 1\n",
    "                find_precursor_matches_confirmed.append((i, one, cosine_score))\n",
    "            else:\n",
    "                find_precursor_matches_not_confirmed.append((i, one, cosine_score))\n",
    "    else:\n",
    "        pass\n",
    "    find_precursor_matches.append(found_match)\n",
    "\n",
    "print(\"Found spectra matches for\", np.sum(np.array(find_precursor_matches)), \"out of\", len(spectra_ref), \"spectra.\")\n",
    "found_IDX = np.where(np.array(find_precursor_matches) == 1)\n",
    "\n",
    "print(\"Found total of\", len(find_precursor_matches_confirmed), \"cosine score confirmed matches.\")"
   ]
  },
  {
   "cell_type": "markdown",
   "metadata": {},
   "source": [
    "## Further inspect samples..."
   ]
  },
  {
   "cell_type": "code",
   "execution_count": 218,
   "metadata": {
    "scrolled": false
   },
   "outputs": [
    {
     "data": {
      "image/png": "[encoded data removed]",
      "text/plain": [
       "<Figure size 720x720 with 1 Axes>"
      ]
     },
     "metadata": {
      "needs_background": "light"
     },
     "output_type": "display_data"
    },
    {
     "name": "stdout",
     "output_type": "stream",
     "text": [
      "Number of peaks:  [34, 34]\n"
     ]
    }
   ],
   "source": [
    "id = 0\n",
    "ID1, ID2 = find_precursor_matches_confirmed[id][:2]\n",
    "\n",
    "compare_spectra(spectra_ref[ID1],spectra[ID2], min_mz = None, max_mz = None)"
   ]
  },
  {
   "cell_type": "code",
   "execution_count": 219,
   "metadata": {},
   "outputs": [
    {
     "data": {
      "image/png": "[encoded data removed]",
      "text/plain": [
       "<Figure size 720x720 with 1 Axes>"
      ]
     },
     "metadata": {
      "needs_background": "light"
     },
     "output_type": "display_data"
    },
    {
     "name": "stdout",
     "output_type": "stream",
     "text": [
      "Number of peaks:  [31, 31]\n"
     ]
    }
   ],
   "source": [
    "id = 1000\n",
    "ID1, ID2 = find_precursor_matches_confirmed[id][:2]\n",
    "\n",
    "compare_spectra(spectra_ref[ID1],spectra[ID2], min_mz = None, max_mz = None)"
   ]
  },
  {
   "cell_type": "markdown",
   "metadata": {},
   "source": [
    "## Matches with higher cosine score only (cosine score > 0.85)"
   ]
  },
  {
   "cell_type": "code",
   "execution_count": 220,
   "metadata": {},
   "outputs": [
    {
     "name": "stdout",
     "output_type": "stream",
     "text": [
      "Found spectra matches for 6172 out of 9565 spectra.\n",
      "Found total of 10255 cosine score confirmed matches.\n"
     ]
    }
   ],
   "source": [
    "decimals = 2\n",
    "cosine_threshold = 0.85\n",
    "cosine_tol = 0.01\n",
    "\n",
    "find_precursor_matches = []\n",
    "find_precursor_matches_confirmed = []\n",
    "find_precursor_matches_not_confirmed = []\n",
    "find_target_matched = np.zeros((len(spectra)))\n",
    "\n",
    "for i, pepmass in enumerate(target_mz):\n",
    "    found_ones = np.where(allGNPS_mz == np.round(pepmass, decimals))[0]\n",
    "    found_match = 0\n",
    "    if len(found_ones) > 0:\n",
    "        for one in found_ones:\n",
    "            cosine_score = MS_functions.cosine_score(spectra_ref[i], spectra[one], tol = cosine_tol)[0]\n",
    "            if cosine_score > cosine_threshold:\n",
    "                found_match = 1\n",
    "                find_precursor_matches_confirmed.append((i, one, cosine_score))\n",
    "            else:\n",
    "                find_precursor_matches_not_confirmed.append((i, one, cosine_score))\n",
    "    else:\n",
    "        pass\n",
    "    find_precursor_matches.append(found_match)\n",
    "\n",
    "print(\"Found spectra matches for\", np.sum(np.array(find_precursor_matches)), \"out of\", len(spectra_ref), \"spectra.\")\n",
    "found_IDX = np.where(np.array(find_precursor_matches) == 1)\n",
    "\n",
    "print(\"Found total of\", len(find_precursor_matches_confirmed), \"cosine score confirmed matches.\")"
   ]
  },
  {
   "cell_type": "code",
   "execution_count": 221,
   "metadata": {},
   "outputs": [
    {
     "name": "stdout",
     "output_type": "stream",
     "text": [
      "3007 11434\n",
      "pepmasses:  370.17999 370.18\n",
      "Smiles:  CCN1CCCC1CNC(=O)C2=CC(=C(C=C2OC)N)S(=O)(=O)CC vs.:  CCN1CCCC1CNC(=O)C2=CC(=C(C=C2OC)N)S(=O)(=O)CC\n",
      "Inchikeys:  NTJOBXMMWNYJFB-UHFFFAOYSA-N vs.:  NTJOBXMMWNYJFB-UHFFFAOYSA-N\n"
     ]
    }
   ],
   "source": [
    "id = 2000\n",
    "ID1, ID2 = find_precursor_matches_confirmed[id][:2]\n",
    "print(ID1,ID2)\n",
    "print(\"pepmasses: \", spectra_ref[ID1].metadata['pepmass'][0], spectra[ID2].metadata['pepmass'][0])\n",
    "print(\"Smiles: \", spectra_ref[ID1].metadata['smiles'], \"vs.: \", spectra[ID2].metadata['smiles'])\n",
    "print(\"Inchikeys: \", spectra_ref[ID1].metadata['inchikey'], \"vs.: \", spectra[ID2].metadata['inchikey'])"
   ]
  },
  {
   "cell_type": "code",
   "execution_count": 222,
   "metadata": {},
   "outputs": [
    {
     "data": {
      "image/png": "[encoded data removed]",
      "text/plain": [
       "<Figure size 720x720 with 1 Axes>"
      ]
     },
     "metadata": {
      "needs_background": "light"
     },
     "output_type": "display_data"
    },
    {
     "name": "stdout",
     "output_type": "stream",
     "text": [
      "Number of peaks:  [13, 13]\n"
     ]
    }
   ],
   "source": [
    "id = 2000\n",
    "ID1, ID2 = find_precursor_matches_confirmed[id][:2]\n",
    "\n",
    "compare_spectra(spectra_ref[ID1],spectra[ID2], min_mz = None, max_mz = None)"
   ]
  },
  {
   "cell_type": "markdown",
   "metadata": {},
   "source": [
    "### Find matches based on inchikeys and smiles"
   ]
  },
  {
   "cell_type": "code",
   "execution_count": 224,
   "metadata": {},
   "outputs": [],
   "source": [
    "# Compare allGNPS and uniquesmiles MGFs\n",
    "inchikeys = []\n",
    "for spec in spectra:\n",
    "    inchikeys.append(spec.metadata['inchikey'])\n",
    "\n",
    "inchikeys_ref = []\n",
    "for spec in spectra_ref:\n",
    "    inchikeys_ref.append(spec.metadata['inchikey'])"
   ]
  },
  {
   "cell_type": "code",
   "execution_count": 225,
   "metadata": {},
   "outputs": [
    {
     "data": {
      "text/plain": [
       "array([], dtype=int64)"
      ]
     },
     "execution_count": 225,
     "metadata": {},
     "output_type": "execute_result"
    }
   ],
   "source": [
    "# Check if all got inchikey\n",
    "test = [len(x) for x in inchikeys_ref]\n",
    "np.where(np.array(test) != 27)[0]"
   ]
  },
  {
   "cell_type": "code",
   "execution_count": 226,
   "metadata": {},
   "outputs": [],
   "source": [
    "inchi_matches = []\n",
    "for m, inchikey in enumerate(inchikeys_ref):\n",
    "    if inchikey in inchikeys:\n",
    "        #inchi_matches.append((m, inchikeys.index(inchikey)))\n",
    "        matches = list(np.where(np.array(inchikeys) == inchikey)[0])\n",
    "        inchi_matches.extend(list(zip(len(matches) * [m], matches)))"
   ]
  },
  {
   "cell_type": "code",
   "execution_count": 227,
   "metadata": {},
   "outputs": [],
   "source": [
    "# Compare allGNPS and uniquesmiles MGFs\n",
    "smiles = []\n",
    "for spec in spectra:\n",
    "    smiles.append(spec.metadata['smiles'])\n",
    "\n",
    "smiles_ref = []\n",
    "for spec in spectra_ref:\n",
    "    smiles_ref.append(spec.metadata['smiles'])"
   ]
  },
  {
   "cell_type": "code",
   "execution_count": 228,
   "metadata": {},
   "outputs": [],
   "source": [
    "smiles_matches = []\n",
    "for m, smile in enumerate(smiles_ref):\n",
    "    if smile in smiles:\n",
    "        matches = list(np.where(np.array(smiles) == smile)[0])\n",
    "        smiles_matches.extend(list(zip(len(matches) * [m], matches)))"
   ]
  },
  {
   "cell_type": "code",
   "execution_count": 229,
   "metadata": {},
   "outputs": [
    {
     "data": {
      "text/plain": [
       "(35941, 10541)"
      ]
     },
     "execution_count": 229,
     "metadata": {},
     "output_type": "execute_result"
    }
   ],
   "source": [
    "len(inchi_matches), len(smiles_matches)"
   ]
  },
  {
   "cell_type": "code",
   "execution_count": 230,
   "metadata": {},
   "outputs": [
    {
     "data": {
      "text/plain": [
       "35941"
      ]
     },
     "execution_count": 230,
     "metadata": {},
     "output_type": "execute_result"
    }
   ],
   "source": [
    "matches_inchikey_smiles = [x for x in inchi_matches or x in smiles_matches]\n",
    "#len(list(set(matches_inchikey_smiles)))\n",
    "len(matches_inchikey_smiles)"
   ]
  },
  {
   "cell_type": "code",
   "execution_count": 237,
   "metadata": {},
   "outputs": [
    {
     "data": {
      "text/plain": [
       "6996"
      ]
     },
     "execution_count": 237,
     "metadata": {},
     "output_type": "execute_result"
    }
   ],
   "source": [
    "a,b = zip(*inchi_matches)\n",
    "len(list(set(a)))"
   ]
  },
  {
   "cell_type": "markdown",
   "metadata": {},
   "source": [
    "### Find matches based on inchikey AND cosine score"
   ]
  },
  {
   "cell_type": "code",
   "execution_count": 238,
   "metadata": {},
   "outputs": [],
   "source": [
    "cosine_threshold = 0.7\n",
    "cosine_tol = 0.01\n",
    "\n",
    "matches_inchikey_cosine = []\n",
    "for (x,y) in matches_inchikey_smiles:\n",
    "    cosine_score = MS_functions.cosine_score(spectra_ref[x], spectra[y], tol = cosine_tol)[0]\n",
    "    if cosine_score > cosine_threshold:\n",
    "        matches_inchikey_cosine.append((x,y, cosine_score))"
   ]
  },
  {
   "cell_type": "code",
   "execution_count": 239,
   "metadata": {},
   "outputs": [],
   "source": [
    "a,b,c = zip(*matches_inchikey_cosine)"
   ]
  },
  {
   "cell_type": "code",
   "execution_count": 240,
   "metadata": {},
   "outputs": [
    {
     "name": "stdout",
     "output_type": "stream",
     "text": [
      "Found total of 9009 matching spectra.\n"
     ]
    }
   ],
   "source": [
    "print(\"Found total of\", len(matches_inchikey_cosine), \"matching spectra.\")"
   ]
  },
  {
   "cell_type": "code",
   "execution_count": 241,
   "metadata": {},
   "outputs": [
    {
     "name": "stdout",
     "output_type": "stream",
     "text": [
      "Found matches for 6246 out of 9565 spectra from unique_smiles.\n"
     ]
    }
   ],
   "source": [
    "print(\"Found matches for\", len(list(set(a))), \"out of\", len(spectra_ref), \"spectra from unique_smiles.\")"
   ]
  },
  {
   "cell_type": "code",
   "execution_count": 242,
   "metadata": {},
   "outputs": [
    {
     "data": {
      "image/png": "[encoded data removed]",
      "text/plain": [
       "<Figure size 720x720 with 1 Axes>"
      ]
     },
     "metadata": {
      "needs_background": "light"
     },
     "output_type": "display_data"
    },
    {
     "name": "stdout",
     "output_type": "stream",
     "text": [
      "Number of peaks:  [34, 34]\n"
     ]
    }
   ],
   "source": [
    "ID1, ID2 = matches_inchikey_cosine[0][:2]\n",
    "compare_spectra(spectra_ref[ID1],spectra[ID2], min_mz = None, max_mz = None)"
   ]
  },
  {
   "cell_type": "code",
   "execution_count": 243,
   "metadata": {},
   "outputs": [
    {
     "data": {
      "image/png": "[encoded data removed]",
      "text/plain": [
       "<Figure size 720x720 with 1 Axes>"
      ]
     },
     "metadata": {
      "needs_background": "light"
     },
     "output_type": "display_data"
    },
    {
     "name": "stdout",
     "output_type": "stream",
     "text": [
      "Number of peaks:  [43, 54]\n"
     ]
    }
   ],
   "source": [
    "ID1, ID2 = matches_inchikey_cosine[100][:2]\n",
    "compare_spectra(spectra_ref[ID1],spectra[ID2], min_mz = None, max_mz = None)"
   ]
  },
  {
   "cell_type": "code",
   "execution_count": 244,
   "metadata": {},
   "outputs": [
    {
     "data": {
      "image/png": "[encoded data removed]",
      "text/plain": [
       "<Figure size 720x720 with 1 Axes>"
      ]
     },
     "metadata": {
      "needs_background": "light"
     },
     "output_type": "display_data"
    },
    {
     "name": "stdout",
     "output_type": "stream",
     "text": [
      "Number of peaks:  [15, 25]\n"
     ]
    }
   ],
   "source": [
    "ID1, ID2 = matches_inchikey_cosine[1000][:2]\n",
    "compare_spectra(spectra_ref[ID1],spectra[ID2], min_mz = None, max_mz = None)"
   ]
  },
  {
   "cell_type": "markdown",
   "metadata": {},
   "source": [
    "## More severe filtering based on cosine score"
   ]
  },
  {
   "cell_type": "code",
   "execution_count": 245,
   "metadata": {},
   "outputs": [],
   "source": [
    "cosine_threshold = 0.85\n",
    "cosine_tol = 0.01\n",
    "\n",
    "matches_inchikey_cosine2 = []\n",
    "for (x,y) in matches_inchikey_smiles:\n",
    "    cosine_score = MS_functions.cosine_score(spectra_ref[x], spectra[y], tol = cosine_tol)[0]\n",
    "    if cosine_score > cosine_threshold:\n",
    "        matches_inchikey_cosine2.append((x,y, cosine_score))"
   ]
  },
  {
   "cell_type": "code",
   "execution_count": 246,
   "metadata": {},
   "outputs": [],
   "source": [
    "a,b,c = zip(*matches_inchikey_cosine2)"
   ]
  },
  {
   "cell_type": "code",
   "execution_count": 247,
   "metadata": {},
   "outputs": [
    {
     "name": "stdout",
     "output_type": "stream",
     "text": [
      "Found total of 7776 matching spectra.\n"
     ]
    }
   ],
   "source": [
    "print(\"Found total of\", len(matches_inchikey_cosine2), \"matching spectra.\")"
   ]
  },
  {
   "cell_type": "code",
   "execution_count": 248,
   "metadata": {},
   "outputs": [
    {
     "name": "stdout",
     "output_type": "stream",
     "text": [
      "Found matches for 6068 out of 9565 spectra.\n"
     ]
    }
   ],
   "source": [
    "print(\"Found matches for\", len(list(set(a))), \"out of\", len(spectra_ref), \"spectra.\")"
   ]
  },
  {
   "cell_type": "markdown",
   "metadata": {},
   "source": [
    "# Try to find VERY similar spectra only\n",
    "### Find matches based on pepmass (+ cosine score)"
   ]
  },
  {
   "cell_type": "code",
   "execution_count": 109,
   "metadata": {},
   "outputs": [],
   "source": [
    "# Compare allGNPS and uniquesmiles MGFs\n",
    "decimals = 1\n",
    "\n",
    "pepmasses = []\n",
    "for spec in spectra_ref:\n",
    "    pepmasses.append(spec.metadata['pepmass'][0])\n",
    "\n",
    "target_mz = np.array(pepmasses)\n",
    "target_mz  = np.round(target_mz, decimals)\n",
    "\n",
    "pepmasses = []\n",
    "for spec in spectra:\n",
    "    pepmasses.append(spec.metadata['pepmass'][0])\n",
    "\n",
    "allGNPS_mz = np.array(pepmasses)\n",
    "allGNPS_mz  = np.round(allGNPS_mz, decimals)"
   ]
  },
  {
   "cell_type": "markdown",
   "metadata": {},
   "source": [
    "### Machtes for equal pepmass (within 1 decimals) and cosine score > 0.9):"
   ]
  },
  {
   "cell_type": "code",
   "execution_count": 249,
   "metadata": {},
   "outputs": [
    {
     "name": "stdout",
     "output_type": "stream",
     "text": [
      "Found spectra matches for 6170 out of 9565 spectra.\n",
      "Found total of 9725 cosine score confirmed matches.\n"
     ]
    }
   ],
   "source": [
    "decimals = 1\n",
    "cosine_threshold = 0.9\n",
    "cosine_tol = 0.01\n",
    "\n",
    "find_precursor_matches = []\n",
    "find_precursor_matches_confirmed = []\n",
    "find_precursor_matches_not_confirmed = []\n",
    "find_target_matched = np.zeros((len(spectra)))\n",
    "\n",
    "for i, pepmass in enumerate(target_mz):\n",
    "    found_ones = np.where(np.round(allGNPS_mz, decimals) == np.round(pepmass, decimals))[0]\n",
    "    found_match = 0\n",
    "    if len(found_ones) > 0:\n",
    "        for one in found_ones:\n",
    "            cosine_score = MS_functions.cosine_score(spectra_ref[i], spectra[one], tol = cosine_tol)[0]\n",
    "            if cosine_score > cosine_threshold:\n",
    "                found_match = 1\n",
    "                find_precursor_matches_confirmed.append((i, one, cosine_score))\n",
    "            else:\n",
    "                find_precursor_matches_not_confirmed.append((i, one, cosine_score))\n",
    "    else:\n",
    "        pass\n",
    "    find_precursor_matches.append(found_match)\n",
    "\n",
    "print(\"Found spectra matches for\", np.sum(np.array(find_precursor_matches)), \"out of\", len(spectra_ref), \"spectra.\")\n",
    "found_IDX = np.where(np.array(find_precursor_matches) == 1)\n",
    "\n",
    "print(\"Found total of\", len(find_precursor_matches_confirmed), \"cosine score confirmed matches.\")"
   ]
  },
  {
   "cell_type": "code",
   "execution_count": 250,
   "metadata": {},
   "outputs": [
    {
     "name": "stdout",
     "output_type": "stream",
     "text": [
      "16 15154\n",
      "pepmasses:  479.082 479.083\n",
      "Smiles:  O[C@@H]1[C@@H](O)[C@H](O)[C@H](O[C@H]1OC2=C(OC3=C(C(O)=CC(O)=C3)C2=O)C4=CC(O)=C(O)C=C4)C(O)=O vs.:  OC(=O)C(O1)C(O)C(O)C(O)C1OC(C(=O)3)=C(Oc(c4)c(c(O)cc(O)4)3)c(c2)cc(O)c(O)c2\n",
      "Inchikeys:  DUBCCGAQYVUYEU-ZUGPOPFOSA-N vs.:  DUBCCGAQYVUYEU-UHFFFAOYSA-N\n"
     ]
    },
    {
     "data": {
      "image/png": "[encoded data removed]",
      "text/plain": [
       "<Figure size 720x720 with 1 Axes>"
      ]
     },
     "metadata": {
      "needs_background": "light"
     },
     "output_type": "display_data"
    },
    {
     "name": "stdout",
     "output_type": "stream",
     "text": [
      "Number of peaks:  [45, 14]\n"
     ]
    }
   ],
   "source": [
    "id = 0\n",
    "ID1, ID2 = find_precursor_matches_confirmed[id][:2]\n",
    "print(ID1,ID2)\n",
    "print(\"pepmasses: \", spectra_ref[ID1].metadata['pepmass'][0], spectra[ID2].metadata['pepmass'][0])\n",
    "print(\"Smiles: \", spectra_ref[ID1].metadata['smiles'], \"vs.: \", spectra[ID2].metadata['smiles'])\n",
    "print(\"Inchikeys: \", spectra_ref[ID1].metadata['inchikey'], \"vs.: \", spectra[ID2].metadata['inchikey'])\n",
    "\n",
    "compare_spectra(spectra_ref[ID1],spectra[ID2], min_mz = None, max_mz = None)"
   ]
  },
  {
   "cell_type": "code",
   "execution_count": 251,
   "metadata": {},
   "outputs": [
    {
     "name": "stdout",
     "output_type": "stream",
     "text": [
      "988 53412\n",
      "pepmasses:  271.06 271.06\n",
      "Smiles:  OC1=CC(O)=C2C(=O)C=C(OC2=C1O)C3=CC=CC=C3 vs.:  N/A\n",
      "Inchikeys:  ZFKKRRMUPBBYRS-UHFFFAOYSA-N vs.:  TZBJGXHYKVUXJN-UHFFFAOYSA-N\n"
     ]
    },
    {
     "data": {
      "image/png": "[encoded data removed]",
      "text/plain": [
       "<Figure size 720x720 with 1 Axes>"
      ]
     },
     "metadata": {
      "needs_background": "light"
     },
     "output_type": "display_data"
    },
    {
     "name": "stdout",
     "output_type": "stream",
     "text": [
      "Number of peaks:  [31, 30]\n"
     ]
    }
   ],
   "source": [
    "id = 500\n",
    "ID1, ID2 = find_precursor_matches_confirmed[id][:2]\n",
    "print(ID1,ID2)\n",
    "print(\"pepmasses: \", spectra_ref[ID1].metadata['pepmass'][0], spectra[ID2].metadata['pepmass'][0])\n",
    "print(\"Smiles: \", spectra_ref[ID1].metadata['smiles'], \"vs.: \", spectra[ID2].metadata['smiles'])\n",
    "print(\"Inchikeys: \", spectra_ref[ID1].metadata['inchikey'], \"vs.: \", spectra[ID2].metadata['inchikey'])\n",
    "\n",
    "compare_spectra(spectra_ref[ID1],spectra[ID2], min_mz = None, max_mz = None)"
   ]
  },
  {
   "cell_type": "code",
   "execution_count": 252,
   "metadata": {},
   "outputs": [
    {
     "name": "stdout",
     "output_type": "stream",
     "text": [
      "3172 13662\n",
      "pepmasses:  146.0 146.0\n",
      "Smiles:  Oc(c1)c(c2)c(ccc2)nc1 vs.:  Oc(c1)c(c2)c(ccc2)nc1\n",
      "Inchikeys:  PMZDQRJGMBOQBF-UHFFFAOYSA-N vs.:  PMZDQRJGMBOQBF-UHFFFAOYSA-N\n"
     ]
    },
    {
     "data": {
      "image/png": "[encoded data removed]",
      "text/plain": [
       "<Figure size 720x720 with 1 Axes>"
      ]
     },
     "metadata": {
      "needs_background": "light"
     },
     "output_type": "display_data"
    },
    {
     "name": "stdout",
     "output_type": "stream",
     "text": [
      "Number of peaks:  [22, 22]\n"
     ]
    }
   ],
   "source": [
    "id = 2000\n",
    "ID1, ID2 = find_precursor_matches_confirmed[id][:2]\n",
    "print(ID1,ID2)\n",
    "print(\"pepmasses: \", spectra_ref[ID1].metadata['pepmass'][0], spectra[ID2].metadata['pepmass'][0])\n",
    "print(\"Smiles: \", spectra_ref[ID1].metadata['smiles'], \"vs.: \", spectra[ID2].metadata['smiles'])\n",
    "print(\"Inchikeys: \", spectra_ref[ID1].metadata['inchikey'], \"vs.: \", spectra[ID2].metadata['inchikey'])\n",
    "\n",
    "compare_spectra(spectra_ref[ID1],spectra[ID2], min_mz = None, max_mz = None)"
   ]
  },
  {
   "cell_type": "code",
   "execution_count": 253,
   "metadata": {},
   "outputs": [
    {
     "name": "stdout",
     "output_type": "stream",
     "text": [
      "4287 15795\n",
      "pepmasses:  187.075 187.075\n",
      "Smiles:  COC1=C(C=O)C2=CC=CC=C2C=C1 vs.:  COC1=C(C=O)C2=CC=CC=C2C=C1\n",
      "Inchikeys:  YIQGLTKAOHRZOL-UHFFFAOYSA-N vs.:  YIQGLTKAOHRZOL-UHFFFAOYSA-N\n"
     ]
    },
    {
     "data": {
      "image/png": "[encoded data removed]",
      "text/plain": [
       "<Figure size 720x720 with 1 Axes>"
      ]
     },
     "metadata": {
      "needs_background": "light"
     },
     "output_type": "display_data"
    },
    {
     "name": "stdout",
     "output_type": "stream",
     "text": [
      "Number of peaks:  [22, 22]\n"
     ]
    }
   ],
   "source": [
    "id = 3000\n",
    "ID1, ID2 = find_precursor_matches_confirmed[id][:2]\n",
    "print(ID1,ID2)\n",
    "print(\"pepmasses: \", spectra_ref[ID1].metadata['pepmass'][0], spectra[ID2].metadata['pepmass'][0])\n",
    "print(\"Smiles: \", spectra_ref[ID1].metadata['smiles'], \"vs.: \", spectra[ID2].metadata['smiles'])\n",
    "print(\"Inchikeys: \", spectra_ref[ID1].metadata['inchikey'], \"vs.: \", spectra[ID2].metadata['inchikey'])\n",
    "\n",
    "compare_spectra(spectra_ref[ID1],spectra[ID2], min_mz = None, max_mz = None)"
   ]
  },
  {
   "cell_type": "markdown",
   "metadata": {},
   "source": [
    "# Try to find VERY similar spectra only\n",
    "### Find matches based on pepmass (+ cosine score) OR inchikey  (+ cosine score) "
   ]
  },
  {
   "cell_type": "markdown",
   "metadata": {},
   "source": [
    "### Machtes for equal pepmass (within 1 decimals) and cosine score > 0.9):"
   ]
  },
  {
   "cell_type": "code",
   "execution_count": 254,
   "metadata": {},
   "outputs": [
    {
     "name": "stdout",
     "output_type": "stream",
     "text": [
      "Found spectra matches for 6170 out of 9565 spectra.\n",
      "Found total of 9725 cosine score confirmed matches.\n"
     ]
    }
   ],
   "source": [
    "decimals = 1\n",
    "cosine_threshold = 0.9\n",
    "cosine_tol = 0.01\n",
    "\n",
    "find_precursor_matches = []\n",
    "find_precursor_matches_confirmed = []\n",
    "find_precursor_matches_not_confirmed = []\n",
    "find_target_matched = np.zeros((len(spectra)))\n",
    "\n",
    "for i, pepmass in enumerate(target_mz):\n",
    "    found_ones = np.where(np.round(allGNPS_mz, decimals) == np.round(pepmass, decimals))[0]\n",
    "    found_match = 0\n",
    "    if len(found_ones) > 0:\n",
    "        for one in found_ones:\n",
    "            cosine_score = MS_functions.cosine_score(spectra_ref[i], spectra[one], tol = cosine_tol)[0]\n",
    "            if cosine_score > cosine_threshold:\n",
    "                found_match = 1\n",
    "                find_precursor_matches_confirmed.append((i, one, cosine_score))\n",
    "            else:\n",
    "                find_precursor_matches_not_confirmed.append((i, one, cosine_score))\n",
    "    else:\n",
    "        pass\n",
    "    find_precursor_matches.append(found_match)\n",
    "\n",
    "print(\"Found spectra matches for\", np.sum(np.array(find_precursor_matches)), \"out of\", len(spectra_ref), \"spectra.\")\n",
    "found_IDX = np.where(np.array(find_precursor_matches) == 1)\n",
    "\n",
    "print(\"Found total of\", len(find_precursor_matches_confirmed), \"cosine score confirmed matches.\")"
   ]
  },
  {
   "cell_type": "markdown",
   "metadata": {},
   "source": [
    "### Try adding matches from inchikey matches to check if this adds additional cases!"
   ]
  },
  {
   "cell_type": "code",
   "execution_count": 255,
   "metadata": {},
   "outputs": [],
   "source": [
    "matches_inchikey_cosine = []\n",
    "for (x,y) in matches_inchikey_smiles:\n",
    "    cosine_score = MS_functions.cosine_score(spectra_ref[x], spectra[y], tol = cosine_tol)[0]\n",
    "    if cosine_score > cosine_threshold:\n",
    "        matches_inchikey_cosine.append((x,y, cosine_score))"
   ]
  },
  {
   "cell_type": "code",
   "execution_count": 256,
   "metadata": {},
   "outputs": [],
   "source": [
    "matches_pepmass_confirmed = [(x,y) for (x,y,_) in find_precursor_matches_confirmed]\n",
    "matches_inchikey_confirmed = [(x,y) for (x,y,_) in matches_inchikey_cosine]\n",
    "\n",
    "matches_combined = [x for x in matches_pepmass_confirmed or x in matches_inchikey_confirmed]"
   ]
  },
  {
   "cell_type": "code",
   "execution_count": 257,
   "metadata": {},
   "outputs": [],
   "source": [
    "a,b = zip(*matches_combined)"
   ]
  },
  {
   "cell_type": "code",
   "execution_count": 258,
   "metadata": {},
   "outputs": [
    {
     "name": "stdout",
     "output_type": "stream",
     "text": [
      "Found matches for 6170 out of 9565 spectra from unique_smiles.\n"
     ]
    }
   ],
   "source": [
    "print(\"Found matches for\", len(list(set(a))), \"out of\", len(spectra_ref), \"spectra from unique_smiles.\")"
   ]
  },
  {
   "cell_type": "markdown",
   "metadata": {},
   "source": [
    "## Note:\n",
    "Detecting matches by Inchikeys does not deliver additional matching spectra pairs (when compared to search for pepmass)."
   ]
  },
  {
   "cell_type": "code",
   "execution_count": 259,
   "metadata": {},
   "outputs": [],
   "source": [
    "no_match_spectra = [x for x in range(len(spectra_ref)) if not x in list(set(a))]"
   ]
  },
  {
   "cell_type": "code",
   "execution_count": 261,
   "metadata": {},
   "outputs": [
    {
     "data": {
      "text/plain": [
       "(3395, 6170)"
      ]
     },
     "execution_count": 261,
     "metadata": {},
     "output_type": "execute_result"
    }
   ],
   "source": [
    "len(no_match_spectra), len(list(set(a)))"
   ]
  },
  {
   "cell_type": "markdown",
   "metadata": {},
   "source": [
    "# COMBINE datasets"
   ]
  },
  {
   "cell_type": "code",
   "execution_count": 262,
   "metadata": {},
   "outputs": [],
   "source": [
    "scans_no_match = []\n",
    "for idx in no_match_spectra:\n",
    "    scans_no_match.append(spectra_ref[idx].metadata['scans'])\n",
    "\n",
    "smiles_no_match = []\n",
    "for idx in no_match_spectra:\n",
    "    smiles_no_match.append(spectra_ref[idx].metadata['smiles'])\n",
    "    \n",
    "inchikey_no_match = []\n",
    "for idx in no_match_spectra:\n",
    "    inchikey_no_match.append(spectra_ref[idx].metadata['inchikey'])"
   ]
  },
  {
   "cell_type": "code",
   "execution_count": 263,
   "metadata": {},
   "outputs": [
    {
     "data": {
      "text/plain": [
       "(3395, 3395, 3395)"
      ]
     },
     "execution_count": 263,
     "metadata": {},
     "output_type": "execute_result"
    }
   ],
   "source": [
    "len(scans_no_match), len(inchikey_no_match), len(list(set(no_match_spectra)))"
   ]
  },
  {
   "cell_type": "code",
   "execution_count": 264,
   "metadata": {},
   "outputs": [
    {
     "data": {
      "text/plain": [
       "3395"
      ]
     },
     "execution_count": 264,
     "metadata": {},
     "output_type": "execute_result"
    }
   ],
   "source": [
    "len(list(set([x for x in scans_no_match or x in inchikey_no_match])))"
   ]
  },
  {
   "cell_type": "code",
   "execution_count": 265,
   "metadata": {},
   "outputs": [],
   "source": [
    "#Create MGF of not-machted spectra from unique smiles\n",
    "\n",
    "mgf_file = PATH_MS_DATA + \"GNPSLibraries_uniqueSMILES_withFeatureIDs.mgf\"\n",
    "file_name = PATH_MS_DATA + \"GNPSLibraries_uniqueSMILES_withFeatureIDs_not_matched.mgf\"\n",
    "\n",
    "with mgf.read(mgf_file) as reader:\n",
    "    for i, spectrum in enumerate(reader):  \n",
    "        if spectrum['params']['scans'] in scans_no_match:\n",
    "            mgf.write((spectrum,), file_name)"
   ]
  },
  {
   "cell_type": "code",
   "execution_count": 266,
   "metadata": {},
   "outputs": [
    {
     "name": "stdout",
     "output_type": "stream",
     "text": [
      "3395\n"
     ]
    }
   ],
   "source": [
    "# check creatd MGF file\n",
    "test = mgf.read(PATH_MS_DATA + \"GNPSLibraries_uniqueSMILES_withFeatureIDs_not_matched.mgf\")\n",
    "print(len(test))\n",
    "test.close()"
   ]
  },
  {
   "cell_type": "code",
   "execution_count": 267,
   "metadata": {},
   "outputs": [],
   "source": [
    "#Combine speclibs dataset + not-machted spectra from unique smiles\n",
    "mgf_file1 = PATH_MS_DATA + \"GNPSLibraries_uniqueSMILES_withFeatureIDs_not_matched.mgf\"\n",
    "mgf_file2 = ROOT + \"\\\\Data\\\\GNPS_all\\\\\" + \"all_gnps_with_smiles_191010_modified.mgf\"\n",
    "\n",
    "output_file= open(ROOT + \"\\\\Data\\\\GNPS_all\\\\\" + \"all_gnps_smiles_combined_191014.mgf\", 'w')\n",
    "\n",
    "with open(mgf_file1 , 'r') as file:\n",
    "    for line in file:\n",
    "        output_file.write(line)\n",
    "    #output_file.write('\\n')\n",
    "with open(mgf_file2 , 'r') as file:\n",
    "    for line in file:\n",
    "        output_file.write(line)"
   ]
  },
  {
   "cell_type": "markdown",
   "metadata": {},
   "source": [
    "# Compare with allGNPS (including spectra w/o inchikeys)"
   ]
  },
  {
   "cell_type": "code",
   "execution_count": 8,
   "metadata": {},
   "outputs": [
    {
     "name": "stdout",
     "output_type": "stream",
     "text": [
      "Spectra json file found and loaded.\n"
     ]
    }
   ],
   "source": [
    "results_file = \"filtered_data_LibrariesAll_minpeak2_loss500_2dec_exp001.json\"\n",
    "mgf_file = ROOT + \"\\\\Data\\\\GNPS_all\\\\\" + \"all_gnps_191015_modified.mgf\"\n",
    "\n",
    "spectra, spectra_dict, MS_documents, MS_documents_intensity, sub_spectra_metadata = MS_functions.load_MGF_data(PATH_SAVE_DATA,\n",
    "                  mgf_file, \n",
    "                 results_file = results_file,\n",
    "                 num_decimals = 2,\n",
    "                 min_frag = 0.0, max_frag = 1000.0,\n",
    "                 min_loss = 5.0, max_loss = 500.0,\n",
    "                 min_intensity_perc = 0,\n",
    "                 exp_intensity_filter = 0.01, #None\n",
    "                 peaks_per_mz = 20/200,\n",
    "                 min_peaks = 10,\n",
    "                 max_peaks = None,\n",
    "                 peak_loss_words = ['peak_', 'loss_'])"
   ]
  },
  {
   "cell_type": "code",
   "execution_count": 9,
   "metadata": {},
   "outputs": [],
   "source": [
    "# Compare allGNPS and uniquesmiles MGFs\n",
    "decimals = 2\n",
    "\n",
    "pepmasses = []\n",
    "for spec in spectra_ref:\n",
    "    pepmasses.append(spec.metadata['pepmass'][0])\n",
    "\n",
    "target_mz = np.array(pepmasses)\n",
    "target_mz  = np.round(target_mz, decimals)\n",
    "\n",
    "pepmasses = []\n",
    "for spec in spectra:\n",
    "    pepmasses.append(spec.metadata['pepmass'][0])\n",
    "\n",
    "allGNPS_mz = np.array(pepmasses)\n",
    "allGNPS_mz  = np.round(allGNPS_mz, decimals)"
   ]
  },
  {
   "cell_type": "code",
   "execution_count": 10,
   "metadata": {},
   "outputs": [
    {
     "name": "stdout",
     "output_type": "stream",
     "text": [
      "Found spectra matches for 9356 out of 9565 spectra.\n",
      "Found total of 15290 cosine score confirmed matches.\n"
     ]
    }
   ],
   "source": [
    "decimals = 2\n",
    "cosine_threshold = 0.9\n",
    "cosine_tol = 0.01\n",
    "\n",
    "find_precursor_matches = []\n",
    "find_precursor_matches_confirmed = []\n",
    "find_precursor_matches_not_confirmed = []\n",
    "find_target_matched = np.zeros((len(spectra)))\n",
    "\n",
    "for i, pepmass in enumerate(target_mz):\n",
    "    found_ones = np.where(np.round(allGNPS_mz, decimals) == np.round(pepmass, decimals))[0]\n",
    "    found_match = 0\n",
    "    if len(found_ones) > 0:\n",
    "        for one in found_ones:\n",
    "            cosine_score = MS_functions.cosine_score(spectra_ref[i], spectra[one], tol = cosine_tol)[0]\n",
    "            if cosine_score > cosine_threshold:\n",
    "                found_match = 1\n",
    "                find_precursor_matches_confirmed.append((i, one, cosine_score))\n",
    "            else:\n",
    "                find_precursor_matches_not_confirmed.append((i, one, cosine_score))\n",
    "    else:\n",
    "        pass\n",
    "    find_precursor_matches.append(found_match)\n",
    "\n",
    "print(\"Found spectra matches for\", np.sum(np.array(find_precursor_matches)), \"out of\", len(spectra_ref), \"spectra.\")\n",
    "found_IDX = np.where(np.array(find_precursor_matches) == 1)\n",
    "\n",
    "print(\"Found total of\", len(find_precursor_matches_confirmed), \"cosine score confirmed matches.\")"
   ]
  },
  {
   "cell_type": "code",
   "execution_count": 17,
   "metadata": {},
   "outputs": [
    {
     "name": "stdout",
     "output_type": "stream",
     "text": [
      "66 11234\n",
      "pepmasses:  235.09599 235.096\n",
      "Smiles:  CC(O)CC1=CC2=C(C=C(O)C=C2C)C(=O)O1 vs.:  CC(O)CC1=CC2=C(C=C(O)C=C2C)C(=O)O1\n",
      "Inchikeys (unique_smiles):  QTIXOFRUBMRMTF-UHFFFAOYSA-N\n"
     ]
    },
    {
     "data": {
      "image/png": "[encoded data removed]",
      "text/plain": [
       "<Figure size 720x720 with 1 Axes>"
      ]
     },
     "metadata": {
      "needs_background": "light"
     },
     "output_type": "display_data"
    },
    {
     "name": "stdout",
     "output_type": "stream",
     "text": [
      "Number of peaks:  [27, 25]\n"
     ]
    }
   ],
   "source": [
    "id = 100\n",
    "ID1, ID2 = find_precursor_matches_confirmed[id][:2]\n",
    "\n",
    "print(ID1,ID2)\n",
    "print(\"pepmasses: \", spectra_ref[ID1].metadata['pepmass'][0], spectra[ID2].metadata['pepmass'][0])\n",
    "print(\"Smiles: \", spectra_ref[ID1].metadata['smiles'], \"vs.: \", spectra[ID2].metadata['smiles'])\n",
    "if 'inchikey' in spectra_ref[ID1].metadata:\n",
    "    print(\"Inchikeys (unique_smiles): \", spectra_ref[ID1].metadata['inchikey'])\n",
    "if 'inchikey' in spectra[ID1].metadata:\n",
    "    print(\"Inchikeys (allGNPS):\", spectra[ID2].metadata['inchikey'])\n",
    "\n",
    "compare_spectra(spectra_ref[ID1],spectra[ID2], min_mz = None, max_mz = None)"
   ]
  },
  {
   "cell_type": "code",
   "execution_count": 18,
   "metadata": {},
   "outputs": [
    {
     "name": "stdout",
     "output_type": "stream",
     "text": [
      "490 12064\n",
      "pepmasses:  251.089 251.089\n",
      "Smiles:  COC1=CC(=O)OC(C(C)C(C)O)=C1CO vs.:  COC1=CC(=O)OC(C(C)C(C)O)=C1CO\n",
      "Inchikeys (unique_smiles):  BSXCHPRMOOSCRM-UHFFFAOYSA-N\n"
     ]
    },
    {
     "data": {
      "image/png": "[encoded data removed]",
      "text/plain": [
       "<Figure size 720x720 with 1 Axes>"
      ]
     },
     "metadata": {
      "needs_background": "light"
     },
     "output_type": "display_data"
    },
    {
     "name": "stdout",
     "output_type": "stream",
     "text": [
      "Number of peaks:  [28, 27]\n"
     ]
    }
   ],
   "source": [
    "id = 1000\n",
    "ID1, ID2 = find_precursor_matches_confirmed[id][:2]\n",
    "\n",
    "print(ID1,ID2)\n",
    "print(\"pepmasses: \", spectra_ref[ID1].metadata['pepmass'][0], spectra[ID2].metadata['pepmass'][0])\n",
    "print(\"Smiles: \", spectra_ref[ID1].metadata['smiles'], \"vs.: \", spectra[ID2].metadata['smiles'])\n",
    "if 'inchikey' in spectra_ref[ID1].metadata:\n",
    "    print(\"Inchikeys (unique_smiles): \", spectra_ref[ID1].metadata['inchikey'])\n",
    "if 'inchikey' in spectra[ID1].metadata:\n",
    "    print(\"Inchikeys (allGNPS):\", spectra[ID2].metadata['inchikey'])\n",
    "    \n",
    "compare_spectra(spectra_ref[ID1],spectra[ID2], min_mz = None, max_mz = None)"
   ]
  },
  {
   "cell_type": "code",
   "execution_count": 19,
   "metadata": {},
   "outputs": [
    {
     "name": "stdout",
     "output_type": "stream",
     "text": [
      "1139 14155\n",
      "pepmasses:  1081.33997 1081.34\n",
      "Smiles:  C[C@@H]1O[C@@H](O[C@@H]2[C@@H](O)[C@H](O[C@H](CO)[C@H]2OC(=O)\\C=C\\C3=CC=C(O)C=C3)O[C@]4(CO)O[C@H](CO)[C@@H](O)[C@@H]4OC(=O)\\C=C\\C5=CC=C(O)C=C5)[C@H](O)[C@H](O)[C@H]1O[C@@H]6O[C@@H](C)[C@H](O[C@@H]7OC[C@](O)(CO)[C@H]7O)[C@@H](O)[C@H]6O vs.:  C[C@@H]1O[C@@H](O[C@@H]2[C@@H](O)[C@H](O[C@H](CO)[C@H]2OC(=O)\\C=C\\C3=CC=C(O)C=C3)O[C@]4(CO)O[C@H](CO)[C@@H](O)[C@@H]4OC(=O)\\C=C\\C5=CC=C(O)C=C5)[C@H](O)[C@H](O)[C@H]1O[C@@H]6O[C@@H](C)[C@H](O[C@@H]7OC[C@](O)(CO)[C@H]7O)[C@@H](O)[C@H]6O\n",
      "Inchikeys (unique_smiles):  ABORWESIKJVKBN-NNTCGQASSA-N\n"
     ]
    },
    {
     "data": {
      "image/png": "[encoded data removed]",
      "text/plain": [
       "<Figure size 720x720 with 1 Axes>"
      ]
     },
     "metadata": {
      "needs_background": "light"
     },
     "output_type": "display_data"
    },
    {
     "name": "stdout",
     "output_type": "stream",
     "text": [
      "Number of peaks:  [91, 110]\n"
     ]
    }
   ],
   "source": [
    "id = 2000\n",
    "ID1, ID2 = find_precursor_matches_confirmed[id][:2]\n",
    "\n",
    "print(ID1,ID2)\n",
    "print(\"pepmasses: \", spectra_ref[ID1].metadata['pepmass'][0], spectra[ID2].metadata['pepmass'][0])\n",
    "print(\"Smiles: \", spectra_ref[ID1].metadata['smiles'], \"vs.: \", spectra[ID2].metadata['smiles'])\n",
    "if 'inchikey' in spectra_ref[ID1].metadata:\n",
    "    print(\"Inchikeys (unique_smiles): \", spectra_ref[ID1].metadata['inchikey'])\n",
    "if 'inchikey' in spectra[ID1].metadata:\n",
    "    print(\"Inchikeys (allGNPS):\", spectra[ID2].metadata['inchikey'])\n",
    "    \n",
    "compare_spectra(spectra_ref[ID1],spectra[ID2], min_mz = None, max_mz = None)"
   ]
  }
 ],
 "metadata": {
  "kernelspec": {
   "display_name": "Python 3",
   "language": "python",
   "name": "python3"
  },
  "language_info": {
   "codemirror_mode": {
    "name": "ipython",
    "version": 3
   },
   "file_extension": ".py",
   "mimetype": "text/x-python",
   "name": "python",
   "nbconvert_exporter": "python",
   "pygments_lexer": "ipython3",
   "version": "3.6.8"
  }
 },
 "nbformat": 4,
 "nbformat_minor": 2
}
